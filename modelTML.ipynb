{
 "nbformat": 4,
 "nbformat_minor": 0,
 "metadata": {
  "colab": {
   "provenance": [],
   "mount_file_id": "1QSYKVjsNKXRYj4XgsbeCD2hoIgIjUs9C",
   "authorship_tag": "ABX9TyNo13IE2oVKWgbjk0ibRbGH"
  },
  "kernelspec": {
   "name": "python3",
   "display_name": "Python 3"
  },
  "language_info": {
   "name": "python"
  }
 },
 "cells": [
  {
   "cell_type": "markdown",
   "source": [
    "### Modelling\n",
    "1. connect the drive and read datasets.\n",
    "2. data preprocessing\n",
    "3. modelling\n",
    "* Liner Regression\n",
    "* Random Forest Regression\n",
    "* Ridge Regression\n",
    "* KNN Regression\n",
    "* Lasso Regression\n",
    "* Support Vector Regression\n",
    "\n"
   ],
   "metadata": {
    "id": "LKQYCpkuL7zv"
   }
  },
  {
   "cell_type": "code",
   "execution_count": null,
   "metadata": {
    "id": "cvg4UTg1Oe84",
    "colab": {
     "base_uri": "https://localhost:8080/"
    },
    "executionInfo": {
     "status": "ok",
     "timestamp": 1706779113119,
     "user_tz": -60,
     "elapsed": 23265,
     "user": {
      "displayName": "Zhiguang Li",
      "userId": "06031394133879865151"
     }
    },
    "outputId": "176f6339-5bc2-4d5c-df37-8bf8dbe778d2"
   },
   "outputs": [
    {
     "output_type": "stream",
     "name": "stdout",
     "text": [
      "Mounted at /content/drive\n"
     ]
    }
   ],
   "source": [
    "import random\n",
    "import pandas as pd\n",
    "\n",
    "from google.colab import drive\n",
    "from sklearn.svm import SVR\n",
    "from sklearn.manifold import TSNE\n",
    "from sklearn.decomposition import PCA\n",
    "from sklearn.linear_model import Lasso\n",
    "from sklearn.metrics import mean_squared_error\n",
    "from sklearn.neighbors import KNeighborsRegressor\n",
    "\n",
    "#加载drive文件\n",
    "drive.mount('/content/drive') #connect the drive\n",
    "dataset_file = '/content/drive/MyDrive/W-Workspace/MovieLens_da_li/dataset'"
   ]
  },
  {
   "cell_type": "markdown",
   "source": [
    "## Data Preprocessing"
   ],
   "metadata": {
    "id": "qddE-rn-xHXh"
   }
  },
  {
   "cell_type": "code",
   "source": [
    "# 参数设定，数据准备\n",
    "import numpy as np\n",
    "\n",
    "df = pd.read_csv(dataset_file + '/dataset.csv', sep=',')\n",
    "seed = 42\n",
    "np.random.seed(seed)\n",
    "random.seed(seed)\n",
    "apply_pca=False"
   ],
   "metadata": {
    "id": "8v_E2Q1vJVu5"
   },
   "execution_count": null,
   "outputs": []
  },
  {
   "cell_type": "code",
   "source": [
    "from sklearn.model_selection import train_test_split\n",
    "\n",
    "#split data and labels  分离特征和标签\n",
    "X = df.drop(['rating'], axis=1) # 特征fature，除了rating以外的其他变量\n",
    "y = df['rating'] # 标签label, rating\n",
    "\n",
    "# 划分数据集\n",
    "X_train_val, X_test, y_train_val, y_test = train_test_split(X, y, test_size=0.20, random_state=42) # train_size=0.8*0.9,\n",
    "X_train, X_val, y_train, y_val = train_test_split(X_train_val, y_train_val, test_size=0.1, random_state=42)\n",
    "\n",
    "#count the numebr of x_train x_val and x_test  打印各数据集的大小\n",
    "print(\"Number of training set: \", X_train.shape[0])\n",
    "print(\"Number of validation set: \", X_val.shape[0])\n",
    "print(\"Numebr of testing set: \", X_test.shape[0])"
   ],
   "metadata": {
    "id": "82x_m1rogr4e",
    "colab": {
     "base_uri": "https://localhost:8080/"
    },
    "executionInfo": {
     "status": "ok",
     "timestamp": 1706779633512,
     "user_tz": -60,
     "elapsed": 752,
     "user": {
      "displayName": "Zhiguang Li",
      "userId": "06031394133879865151"
     }
    },
    "outputId": "ede102df-d5f4-4049-8bfc-8a74b22829ba"
   },
   "execution_count": null,
   "outputs": [
    {
     "output_type": "stream",
     "name": "stdout",
     "text": [
      "Number of training set:  9946\n",
      "Number of validation set:  1106\n",
      "Numebr of testing set:  2764\n"
     ]
    }
   ]
  },
  {
   "cell_type": "code",
   "source": [
    "if apply_pca:\n",
    "    try:\n",
    "        pca = PCA(n_components=0.95)\n",
    "        pca.fit(X_train)\n",
    "        X_train = pca.transform(X_train)\n",
    "        X_val = pca.transform(X_val)\n",
    "        X_test = pca.transform(X_test)\n",
    "        print(\"PCA applied to the dataset\")\n",
    "    except Exception as e:\n",
    "        print(\"Error occurred while applying PCA:\", e)\n",
    "else:\n",
    "    print(\"PCA was not applied to the dataset\")"
   ],
   "metadata": {
    "id": "vbmQ_5JaAYWI",
    "colab": {
     "base_uri": "https://localhost:8080/"
    },
    "executionInfo": {
     "status": "ok",
     "timestamp": 1706779639015,
     "user_tz": -60,
     "elapsed": 334,
     "user": {
      "displayName": "Zhiguang Li",
      "userId": "06031394133879865151"
     }
    },
    "outputId": "2192d34e-d450-4ff6-d8ca-c146eb52a201"
   },
   "execution_count": null,
   "outputs": [
    {
     "output_type": "stream",
     "name": "stdout",
     "text": [
      "PCA was not applied to the dataset\n"
     ]
    }
   ]
  },
  {
   "cell_type": "markdown",
   "source": [
    "##Liner Regression\n",
    "\n",
    "### PCA:\n",
    "\n",
    "* Mean Square Error: 0.0064\n",
    "* R-square: 0.9709\n",
    "\n",
    "### No_PCA:\n",
    "* Mean Square Error: 0.0054\n",
    "* R2-square: 0.9754"
   ],
   "metadata": {
    "id": "LHhFX6xYxhm8"
   }
  },
  {
   "cell_type": "code",
   "source": [
    "import os\n",
    "from sklearn import linear_model\n",
    "from sklearn.metrics import mean_squared_error, r2_score\n",
    "from torch.utils.tensorboard import SummaryWriter\n",
    "\n",
    "base_dir = '/content/drive/MyDrive/W-Workspace/MovieLens_da_li/'  # Google Drive 根目录\n",
    "log_name = \"linear_regression\"\n",
    "log_dir = os.path.join(base_dir, \"results\", \"TML\", \"pca\" if apply_pca else \"no_pca\", \"LinearRegression\", log_name)\n",
    "writer = SummaryWriter(log_dir)\n",
    "\n",
    "lin_regr = linear_model.LinearRegression()\n",
    "lin_regr.fit(X_train, y_train)\n",
    "y_pred = lin_regr.predict(X_test)\n",
    "\n",
    "# 计算均方误差\n",
    "mse = mean_squared_error(y_test, y_pred)\n",
    "print('Mean Square Error:', mse)\n",
    "writer.add_scalar('Loss/MSE', mse)\n",
    "writer.flush()\n",
    "\n",
    "# 计算 R2 分数\n",
    "rsquare = r2_score(y_test, y_pred)\n",
    "print('R2-square:', rsquare)\n",
    "\n",
    "# 确保关闭 writer\n",
    "writer.close()"
   ],
   "metadata": {
    "id": "uwo84GD5K-wI",
    "executionInfo": {
     "status": "ok",
     "timestamp": 1706779658517,
     "user_tz": -60,
     "elapsed": 16642,
     "user": {
      "displayName": "Zhiguang Li",
      "userId": "06031394133879865151"
     }
    },
    "colab": {
     "base_uri": "https://localhost:8080/"
    },
    "outputId": "d1f1fb45-bfb6-4cae-fedf-643a0fee2609"
   },
   "execution_count": null,
   "outputs": [
    {
     "output_type": "stream",
     "name": "stdout",
     "text": [
      "Mean Square Error: 0.0054454069190485845\n",
      "R2-square: 0.9754341910082424\n"
     ]
    }
   ]
  },
  {
   "cell_type": "markdown",
   "source": [
    "## Random Forest Regressor\n",
    "### PCA:\n",
    "* Mean Squared Error:  0.0373\n",
    "* R2 Score:  0.8315\n",
    "\n",
    "### No PCA:\n",
    "* Mean Square Error:  0.0125\n",
    "* R2 Score:  0.9433"
   ],
   "metadata": {
    "id": "lfb9R5aOwuoj"
   }
  },
  {
   "cell_type": "code",
   "source": [
    "from sklearn.model_selection import GridSearchCV\n",
    "from sklearn.ensemble import RandomForestRegressor\n",
    "\n",
    "param_grid = {\n",
    "    \"n_estimators\": [10, 15, 20, 25, 30],\n",
    "    \"criterion\": [\"squared_error\", \"friedman_mse\"]\n",
    "}\n",
    "rf = RandomForestRegressor()\n",
    "\n",
    "try:\n",
    "    print(X_train.shape)\n",
    "    print(y_train.shape)\n",
    "    grid_search = GridSearchCV(rf, param_grid, cv=5, scoring='neg_mean_squared_error', return_train_score=True)\n",
    "    grid_search.fit(X_train, y_train)\n",
    "    best_hyper = grid_search.best_params_\n",
    "    print(\"Best hyperpara meters: \", best_hyper)\n",
    "except Exception as e:\n",
    "    print(\"An error occurred:\", e)"
   ],
   "metadata": {
    "colab": {
     "base_uri": "https://localhost:8080/"
    },
    "id": "w-9xTSCU6wtv",
    "outputId": "8f76f445-2dc5-4249-9b6f-41043b6dc09a",
    "executionInfo": {
     "status": "ok",
     "timestamp": 1706787593232,
     "user_tz": -60,
     "elapsed": 2102310,
     "user": {
      "displayName": "Zhiguang Li",
      "userId": "06031394133879865151"
     }
    }
   },
   "execution_count": null,
   "outputs": [
    {
     "output_type": "stream",
     "name": "stdout",
     "text": [
      "(9946, 1128)\n",
      "(9946,)\n",
      "Best hyperparameters:  {'criterion': 'friedman_mse', 'n_estimators': 30}\n"
     ]
    }
   ]
  },
  {
   "cell_type": "code",
   "source": [
    "# 打印 apply_pca 的值\n",
    "print(apply_pca)\n",
    "\n",
    "# 定义基础路径和文件名\n",
    "base_dir = '/content/drive/MyDrive/W-Workspace/MovieLens_da_li/'\n",
    "base_path = base_dir + \"results/TML/cv_results\"\n",
    "file_name = \"RandomForestRegressor.csv\"\n",
    "print(base_path)\n",
    "\n",
    "\n",
    "# 根据 apply_pca 选择子路径\n",
    "sub_path = \"pca\" if apply_pca else \"no_pca\"\n",
    "\n",
    "# 完整的文件路径\n",
    "full_path = os.path.join(base_path, sub_path, file_name)\n",
    "\n",
    "# 尝试写入文件\n",
    "try:\n",
    "    pd.DataFrame(grid_search.cv_results_).to_csv(full_path)\n",
    "    print(f\"Saved to {full_path}\")\n",
    "except Exception as e:\n",
    "    print(f\"Error saving file: {e}\")"
   ],
   "metadata": {
    "id": "SHqpdYdLZExu",
    "colab": {
     "base_uri": "https://localhost:8080/"
    },
    "executionInfo": {
     "status": "ok",
     "timestamp": 1706788042646,
     "user_tz": -60,
     "elapsed": 348,
     "user": {
      "displayName": "Zhiguang Li",
      "userId": "06031394133879865151"
     }
    },
    "outputId": "b763d9cb-7377-417d-df6e-ddf5f5c19d91"
   },
   "execution_count": null,
   "outputs": [
    {
     "output_type": "stream",
     "name": "stdout",
     "text": [
      "False\n",
      "/content/drive/MyDrive/W-Workspace/MovieLens_da_li/results/TML/cv_results\n",
      "Saved to /content/drive/MyDrive/W-Workspace/MovieLens_da_li/results/TML/cv_results/no_pca/RandomForestRegressor.csv\n"
     ]
    }
   ]
  },
  {
   "cell_type": "code",
   "source": [
    "# 提取结果并转换为正值\n",
    "results = pd.DataFrame(grid_search.cv_results_)\n",
    "results = results[['param_n_estimators', 'param_criterion', 'mean_test_score']]\n",
    "results['mean_test_score'] = results['mean_test_score'] * -1\n",
    "\n",
    "# 初始化 TensorBoard 写入器\n",
    "base_dir = '/content/drive/MyDrive/W-Workspace/MovieLens_da_li/'\n",
    "sub_dir = \"pca\" if apply_pca else \"no_pca\"\n",
    "log_dir = os.path.join(base_dir, \"results\", \"TML\", sub_dir, \"RandomForest\")\n",
    "print(log_dir)\n",
    "\n",
    "writer = SummaryWriter(log_dir)\n",
    "\n",
    "# 将结果记录到 TensorBoard\n",
    "try:\n",
    "    for index, row in results.iterrows():\n",
    "        mse = row['mean_test_score']\n",
    "        n_estimators = row['param_n_estimators']\n",
    "        criterion = row['param_criterion']\n",
    "        writer.add_hparams({\"n_estimators\": n_estimators, \"criterion\": criterion}, {\"hparam/mse\": mse})\n",
    "        writer.flush()\n",
    "finally:\n",
    "    writer.close()"
   ],
   "metadata": {
    "id": "ne5v-OE6ZYYY",
    "colab": {
     "base_uri": "https://localhost:8080/"
    },
    "executionInfo": {
     "status": "ok",
     "timestamp": 1706788046284,
     "user_tz": -60,
     "elapsed": 679,
     "user": {
      "displayName": "Zhiguang Li",
      "userId": "06031394133879865151"
     }
    },
    "outputId": "84f1129f-c7ab-4649-a813-e1d8ce9f60d4"
   },
   "execution_count": null,
   "outputs": [
    {
     "output_type": "stream",
     "name": "stdout",
     "text": [
      "/content/drive/MyDrive/W-Workspace/MovieLens_da_li/results/TML/no_pca/RandomForest\n"
     ]
    }
   ]
  },
  {
   "cell_type": "code",
   "source": [
    "# 将最佳参数转换为 DataFrame 并转置\n",
    "rf = pd.DataFrame.from_dict(grid_search.best_params_, orient='index', columns=['value']).T\n",
    "\n",
    "# 构造文件保存路径\n",
    "base_dir = '/content/drive/MyDrive/W-Workspace/MovieLens_da_li/'\n",
    "sub_dir = \"pca\" if apply_pca else \"no_pca\"\n",
    "file_path = os.path.join(base_dir, \"results\", 'TML', 'best_params', sub_dir, 'random_forest.csv')\n",
    "\n",
    "# 尝试保存到 CSV 文件\n",
    "try:\n",
    "    rf.to_csv(file_path, index=False)\n",
    "    print(f\"Best parameters saved to {file_path}\")\n",
    "except Exception as e:\n",
    "    print(f\"Error saving file: {e}\")"
   ],
   "metadata": {
    "id": "LTLK9VSHZbGW",
    "colab": {
     "base_uri": "https://localhost:8080/"
    },
    "executionInfo": {
     "status": "ok",
     "timestamp": 1706788049401,
     "user_tz": -60,
     "elapsed": 624,
     "user": {
      "displayName": "Zhiguang Li",
      "userId": "06031394133879865151"
     }
    },
    "outputId": "0936455e-8948-489d-f1eb-7b66bb9e48e1"
   },
   "execution_count": null,
   "outputs": [
    {
     "output_type": "stream",
     "name": "stdout",
     "text": [
      "Best parameters saved to /content/drive/MyDrive/W-Workspace/MovieLens_da_li/results/TML/best_params/no_pca/random_forest.csv\n"
     ]
    }
   ]
  },
  {
   "cell_type": "code",
   "source": [
    "# 创建并训练随机森林模型\n",
    "rf = RandomForestRegressor(criterion='friedman_mse', n_estimators=30).fit(X_train, y_train)\n",
    "\n",
    "# 在测试集上进行预测\n",
    "y_pred = rf.predict(X_test)\n",
    "\n",
    "# 计算并打印性能指标\n",
    "print(\"Mean Squared Error: \", mean_squared_error(y_test, y_pred))\n",
    "print(\"R2 Score: \", r2_score(y_test, y_pred))"
   ],
   "metadata": {
    "id": "U-ti_cNKZc2E",
    "colab": {
     "base_uri": "https://localhost:8080/"
    },
    "executionInfo": {
     "status": "ok",
     "timestamp": 1706788322369,
     "user_tz": -60,
     "elapsed": 270999,
     "user": {
      "displayName": "Zhiguang Li",
      "userId": "06031394133879865151"
     }
    },
    "outputId": "cb36502a-75a1-4ab5-8bbf-8df1c4199540"
   },
   "execution_count": null,
   "outputs": [
    {
     "output_type": "stream",
     "name": "stdout",
     "text": [
      "Mean Squared Error:  0.012738678622681958\n",
      "R2 Score:  0.9425321283598643\n"
     ]
    }
   ]
  },
  {
   "cell_type": "code",
   "source": [
    "import matplotlib.pyplot as plt\n",
    "import seaborn as sns\n",
    "\n",
    "if not apply_pca:\n",
    "    # 获取特征重要性并排序\n",
    "    importances = rf.feature_importances_\n",
    "    indices = np.argsort(importances)[::-1]\n",
    "    features = X.columns\n",
    "\n",
    "    # 绘制特征重要性图\n",
    "    plt.figure(figsize=(10, 5))\n",
    "    sns.barplot(x=features[indices[0:10]], y=importances[indices[0:10]])\n",
    "    plt.title(\"Top 10 Feature Importances in RandomForest\")\n",
    "    plt.xlabel(\"Features\")\n",
    "    plt.ylabel(\"Importance\")\n",
    "    plt.xticks(rotation=90)\n",
    "    plt.show()\n",
    "else:\n",
    "    print(\"PCA is applied, so no feature importance graph is shown\")\n"
   ],
   "metadata": {
    "id": "Ds7kbotqZe_a",
    "colab": {
     "base_uri": "https://localhost:8080/",
     "height": 596
    },
    "executionInfo": {
     "status": "ok",
     "timestamp": 1706788322902,
     "user_tz": -60,
     "elapsed": 536,
     "user": {
      "displayName": "Zhiguang Li",
      "userId": "06031394133879865151"
     }
    },
    "outputId": "678c49b2-b3a4-45e3-8fc4-bbf88990e709"
   },
   "execution_count": null,
   "outputs": [
    {
     "output_type": "display_data",
     "data": {
      "text/plain": [
       "<Figure size 1000x500 with 1 Axes>"
      ],
      "image/png": "[encoded data removed]"
     },
     "metadata": {}
    }
   ]
  },
  {
   "cell_type": "markdown",
   "source": [
    "## Ridge Regressor\n",
    "### PCA:\n",
    "* Mean Squared Error:  0.0063\n",
    "* R2 Score:  0.9711\n",
    "\n",
    "### NO PCA:\n",
    "* Mean Square Error: 0.0053\n",
    "* R2 Score:  0.9759"
   ],
   "metadata": {
    "id": "zNNoHlLOyf2v"
   }
  },
  {
   "cell_type": "code",
   "source": [
    "from sklearn.linear_model import Ridge\n",
    "from sklearn.model_selection import GridSearchCV\n",
    "\n",
    "param_grid = {\"alpha\": [0.0001, 0.001, 0.1, 0.5, 1, 5, 10, 20]}\n",
    "ridge = Ridge()\n",
    "\n",
    "try:\n",
    "    grid_search = GridSearchCV(ridge, param_grid, cv=5, scoring='neg_mean_squared_error', return_train_score=True)\n",
    "    grid_search.fit(X_train, y_train)\n",
    "    best_hyper = grid_search.best_params_\n",
    "    print(\"Best hyperparameters: \", best_hyper)\n",
    "except Exception as e:\n",
    "    print(\"An error occurred during GridSearchCV fitting:\", e)"
   ],
   "metadata": {
    "id": "IM1ccPhSZhP_",
    "colab": {
     "base_uri": "https://localhost:8080/"
    },
    "executionInfo": {
     "status": "ok",
     "timestamp": 1706788402747,
     "user_tz": -60,
     "elapsed": 31099,
     "user": {
      "displayName": "Zhiguang Li",
      "userId": "06031394133879865151"
     }
    },
    "outputId": "70b8d0bf-19c2-466a-f73e-c4922d844024"
   },
   "execution_count": null,
   "outputs": [
    {
     "output_type": "stream",
     "name": "stdout",
     "text": [
      "Best hyperparameters:  {'alpha': 5}\n"
     ]
    }
   ]
  },
  {
   "cell_type": "code",
   "source": [
    "from torch.utils.tensorboard import SummaryWriter\n",
    "import os\n",
    "\n",
    "# 根据 apply_pca 选择子目录\n",
    "base_path = base_dir + \"results/TML/cv_results\"\n",
    "sub_dir = \"pca\" if apply_pca else \"no_pca\"\n",
    "log_dir = os.path.join(base_path, sub_dir, \"Ridge\")\n",
    "\n",
    "# 初始化 TensorBoard 写入器\n",
    "writer = SummaryWriter(log_dir)"
   ],
   "metadata": {
    "id": "QWqxC7w5Zi0H"
   },
   "execution_count": null,
   "outputs": []
  },
  {
   "cell_type": "code",
   "source": [
    "# 提取结果并转换为正值\n",
    "results = pd.DataFrame(grid_search.cv_results_)\n",
    "results = results[['param_alpha', 'mean_test_score']]\n",
    "results['mean_test_score'] = results['mean_test_score'] * -1\n",
    "\n",
    "# 初始化 TensorBoard 写入器\n",
    "base_path = base_dir + \"results/TML/cv_results\"\n",
    "sub_dir = \"pca\" if apply_pca else \"no_pca\"\n",
    "log_dir = os.path.join(base_path, sub_dir, \"Ridge\")\n",
    "writer = SummaryWriter(log_dir)\n",
    "\n",
    "# 将结果记录到 TensorBoard\n",
    "for index, row in results.iterrows():\n",
    "    mse = row['mean_test_score']\n",
    "    alpha = row['param_alpha']\n",
    "    writer.add_hparams({\"alpha\": alpha}, {\"mse\": mse})\n",
    "    writer.flush()\n",
    "\n",
    "# 关闭 TensorBoard 写入器\n",
    "writer.close()"
   ],
   "metadata": {
    "id": "iKltKFt0ZkSB"
   },
   "execution_count": null,
   "outputs": []
  },
  {
   "cell_type": "code",
   "source": [
    "# 将最佳参数转换为 DataFrame 并转置\n",
    "ridge_params = pd.DataFrame.from_dict(grid_search.best_params_, orient='index', columns=['value']).T\n",
    "\n",
    "# 构造文件保存路径\n",
    "base_path = base_dir + \"results/TML/cv_results\"\n",
    "sub_dir = \"pca\" if apply_pca else \"no_pca\"\n",
    "file_path = os.path.join(base_path, sub_dir, 'ridge.csv')\n",
    "\n",
    "# 尝试保存到 CSV 文件\n",
    "try:\n",
    "    ridge_params.to_csv(file_path, index=False)\n",
    "    print(f\"Best parameters saved to {file_path}\")\n",
    "except Exception as e:\n",
    "    print(f\"Error saving file: {e}\")"
   ],
   "metadata": {
    "id": "aJjztUmvZkS4",
    "colab": {
     "base_uri": "https://localhost:8080/"
    },
    "executionInfo": {
     "status": "ok",
     "timestamp": 1706788446245,
     "user_tz": -60,
     "elapsed": 770,
     "user": {
      "displayName": "Zhiguang Li",
      "userId": "06031394133879865151"
     }
    },
    "outputId": "7e474bf0-a2c5-4c02-925a-eabe40969a2a"
   },
   "execution_count": null,
   "outputs": [
    {
     "output_type": "stream",
     "name": "stdout",
     "text": [
      "Best parameters saved to /content/drive/MyDrive/W-Workspace/MovieLens_da_li/results/TML/cv_results/no_pca/ridge.csv\n"
     ]
    }
   ]
  },
  {
   "cell_type": "code",
   "source": [
    "try:\n",
    "    # 使用最佳参数创建并训练 Ridge 模型\n",
    "    optimized_ridge = Ridge(**best_hyper)\n",
    "    optimized_ridge.fit(X_train, y_train)\n",
    "\n",
    "    # 在测试集上进行预测\n",
    "    y_pred = optimized_ridge.predict(X_test)\n",
    "\n",
    "    # 计算并打印性能指标\n",
    "    print(\"Mean Squared Error: \", mean_squared_error(y_test, y_pred))\n",
    "    print(\"R2 Score: \", r2_score(y_test, y_pred))\n",
    "except Exception as e:\n",
    "    print(\"An error occurred:\", e)"
   ],
   "metadata": {
    "id": "KCyP7k6yZn2n",
    "colab": {
     "base_uri": "https://localhost:8080/"
    },
    "executionInfo": {
     "status": "ok",
     "timestamp": 1706788450549,
     "user_tz": -60,
     "elapsed": 689,
     "user": {
      "displayName": "Zhiguang Li",
      "userId": "06031394133879865151"
     }
    },
    "outputId": "a5c18d10-8a57-4f9f-da81-539349b75cf0"
   },
   "execution_count": null,
   "outputs": [
    {
     "output_type": "stream",
     "name": "stdout",
     "text": [
      "Mean Squared Error:  0.005323110704793609\n",
      "R2 Score:  0.9759859046789496\n"
     ]
    }
   ]
  },
  {
   "cell_type": "markdown",
   "source": [
    "## KNN Regressor\n",
    "### PCA:\n",
    "* Mean Squared Error:  0.0402\n",
    "* R2 Score:  0.8182\n",
    "\n",
    "### No PCA:\n",
    "* Mean Square Error: 0.0405\n",
    "* R2 Score:  0.8172"
   ],
   "metadata": {
    "id": "YzVz9X9KuASk"
   }
  },
  {
   "cell_type": "code",
   "source": [
    "from sklearn.neighbors import KNeighborsRegressor\n",
    "\n",
    "param_grid = {\n",
    "    'n_neighbors': [7, 8, 9, 10, 15, 20],\n",
    "    'weights': ['uniform', 'distance']\n",
    "}\n",
    "knn = KNeighborsRegressor()\n",
    "\n",
    "try:\n",
    "    grid_search = GridSearchCV(knn, param_grid, cv=5, scoring='neg_mean_squared_error', return_train_score=True)\n",
    "    grid_search.fit(X_train, y_train)\n",
    "    best_hyper = grid_search.best_params_\n",
    "    print(\"Best hyperparameters: \", best_hyper)\n",
    "except Exception as e:\n",
    "    print(\"An error occurred during GridSearchCV fitting:\", e)"
   ],
   "metadata": {
    "id": "Kx5a-56sZrSB",
    "colab": {
     "base_uri": "https://localhost:8080/"
    },
    "executionInfo": {
     "status": "ok",
     "timestamp": 1706788836319,
     "user_tz": -60,
     "elapsed": 382901,
     "user": {
      "displayName": "Zhiguang Li",
      "userId": "06031394133879865151"
     }
    },
    "outputId": "2e81b6b0-3c0c-429f-e913-f02deef8134d"
   },
   "execution_count": null,
   "outputs": [
    {
     "output_type": "stream",
     "name": "stdout",
     "text": [
      "Best hyperparameters:  {'n_neighbors': 10, 'weights': 'distance'}\n"
     ]
    }
   ]
  },
  {
   "cell_type": "code",
   "source": [
    "# 构造文件保存路径\n",
    "\n",
    "base_path = base_dir + \"results/TML/cv_results\"\n",
    "sub_dir = \"pca\" if apply_pca else \"no_pca\"\n",
    "file_path = os.path.join(base_path, sub_dir, \"KNN.csv\")\n",
    "\n",
    "# 尝试将结果保存到 CSV 文件\n",
    "try:\n",
    "    pd.DataFrame(grid_search.cv_results_).to_csv(file_path)\n",
    "    print(f\"CV results saved to {file_path}\")\n",
    "except Exception as e:\n",
    "    print(f\"Error saving CV results: {e}\")\n"
   ],
   "metadata": {
    "id": "ILEUhKHMZtOY",
    "colab": {
     "base_uri": "https://localhost:8080/"
    },
    "executionInfo": {
     "status": "ok",
     "timestamp": 1706788951171,
     "user_tz": -60,
     "elapsed": 628,
     "user": {
      "displayName": "Zhiguang Li",
      "userId": "06031394133879865151"
     }
    },
    "outputId": "315cfa1d-cec7-4553-80b6-ffd27ee7b947"
   },
   "execution_count": null,
   "outputs": [
    {
     "output_type": "stream",
     "name": "stdout",
     "text": [
      "CV results saved to /content/drive/MyDrive/W-Workspace/MovieLens_da_li/results/TML/cv_results/no_pca/KNN.csv\n"
     ]
    }
   ]
  },
  {
   "cell_type": "code",
   "source": [
    "from torch.utils.tensorboard import SummaryWriter\n",
    "\n",
    "# 提取并转换结果\n",
    "results = pd.DataFrame(grid_search.cv_results_)\n",
    "results = results[['param_n_neighbors', 'param_weights', 'mean_test_score']]\n",
    "results['mean_test_score'] = results['mean_test_score'] * -1\n",
    "\n",
    "# 条件初始化 TensorBoard 写入器\n",
    "log_dir = base_dir + \"results/TML/pca/KNN/\" if apply_pca else base_dir + \"results/TML/no_pca/KNN/\"\n",
    "writer = SummaryWriter(log_dir)\n",
    "\n",
    "# 记录超参数和性能指标到 TensorBoard\n",
    "for index, row in results.iterrows():\n",
    "    mse = row['mean_test_score']\n",
    "    n_neighbors = row['param_n_neighbors']\n",
    "    weights = row['param_weights']\n",
    "    writer.add_hparams({\"n_neighbors\": n_neighbors, \"weights\": weights}, {\"hparam/mse\": mse})\n",
    "    writer.flush()\n",
    "\n",
    "# 关闭 TensorBoard 写入器\n",
    "writer.close()\n"
   ],
   "metadata": {
    "id": "gjaxTYh5Zu_0"
   },
   "execution_count": null,
   "outputs": []
  },
  {
   "cell_type": "code",
   "source": [
    "knn = pd.DataFrame.from_dict(grid_search.best_params_, orient='index', columns=['value'])\n",
    "knn = knn.T\n",
    "if apply_pca == True:\n",
    "    knn.to_csv(base_dir + 'results/TML/best_params/pca/knn.csv', index=False)\n",
    "else:\n",
    "    knn.to_csv(base_dir + 'results/TML/best_params/no_pca/knn.csv', index=False)\n"
   ],
   "metadata": {
    "id": "XI2L-8UpZxGc"
   },
   "execution_count": null,
   "outputs": []
  },
  {
   "cell_type": "code",
   "source": [
    "knn = KNeighborsRegressor(**best_hyper)\n",
    "knn.fit(X_train, y_train)\n",
    "y_pred= knn.predict(X_test)\n",
    "\n",
    "print(\"Mean Squared Error: \", mean_squared_error(y_test, y_pred))\n",
    "print(\"R2 Score: \", r2_score(y_test, y_pred))\n"
   ],
   "metadata": {
    "id": "_ic9C1tRZ0An",
    "colab": {
     "base_uri": "https://localhost:8080/"
    },
    "executionInfo": {
     "status": "ok",
     "timestamp": 1706789116447,
     "user_tz": -60,
     "elapsed": 2297,
     "user": {
      "displayName": "Zhiguang Li",
      "userId": "06031394133879865151"
     }
    },
    "outputId": "5da201b3-2689-45f8-f5c0-9299e68cb996"
   },
   "execution_count": null,
   "outputs": [
    {
     "output_type": "stream",
     "name": "stdout",
     "text": [
      "Mean Squared Error:  0.04050348852249125\n",
      "R2 Score:  0.8172770231251678\n"
     ]
    }
   ]
  },
  {
   "cell_type": "markdown",
   "source": [
    "## Lasso Regressor\n",
    "### PCA:\n",
    "* Mean Squared Error:  0.0064\n",
    "* R2 Score:  0.9710\n",
    "\n",
    "### No PCA:\n",
    "* Mean Squared Error: 0.0054\n",
    "* R2 Score:  0.9755"
   ],
   "metadata": {
    "id": "7vpNMIWbuRZh"
   }
  },
  {
   "cell_type": "code",
   "source": [
    "param_grid = {\n",
    "                'alpha':[1e-1, 1e-2, 1e-3, 1e-4, 1e-5]\n",
    "              }\n",
    "lasso = Lasso()\n",
    "grid_search = GridSearchCV(lasso, param_grid, cv=5, scoring='neg_mean_squared_error', return_train_score=True)\n",
    "grid_search.fit(X_train,y_train)\n",
    "best_hyper= grid_search.best_params_\n",
    "print(\"Best hyper: \", best_hyper)\n"
   ],
   "metadata": {
    "id": "g-SjOmP6Z1uy",
    "colab": {
     "base_uri": "https://localhost:8080/"
    },
    "executionInfo": {
     "status": "ok",
     "timestamp": 1706789287504,
     "user_tz": -60,
     "elapsed": 163800,
     "user": {
      "displayName": "Zhiguang Li",
      "userId": "06031394133879865151"
     }
    },
    "outputId": "45d26bf2-8389-49d4-b46f-a338f18cb584"
   },
   "execution_count": null,
   "outputs": [
    {
     "output_type": "stream",
     "name": "stderr",
     "text": [
      "/usr/local/lib/python3.10/dist-packages/sklearn/linear_model/_coordinate_descent.py:631: ConvergenceWarning: Objective did not converge. You might want to increase the number of iterations, check the scale of the features or consider increasing regularisation. Duality gap: 5.527e+00, tolerance: 1.880e-01\n",
      "  model = cd_fast.enet_coordinate_descent(\n",
      "/usr/local/lib/python3.10/dist-packages/sklearn/linear_model/_coordinate_descent.py:631: ConvergenceWarning: Objective did not converge. You might want to increase the number of iterations, check the scale of the features or consider increasing regularisation. Duality gap: 6.996e+00, tolerance: 1.910e-01\n",
      "  model = cd_fast.enet_coordinate_descent(\n",
      "/usr/local/lib/python3.10/dist-packages/sklearn/linear_model/_coordinate_descent.py:631: ConvergenceWarning: Objective did not converge. You might want to increase the number of iterations, check the scale of the features or consider increasing regularisation. Duality gap: 6.742e+00, tolerance: 1.920e-01\n",
      "  model = cd_fast.enet_coordinate_descent(\n",
      "/usr/local/lib/python3.10/dist-packages/sklearn/linear_model/_coordinate_descent.py:631: ConvergenceWarning: Objective did not converge. You might want to increase the number of iterations, check the scale of the features or consider increasing regularisation. Duality gap: 5.814e+00, tolerance: 1.897e-01\n",
      "  model = cd_fast.enet_coordinate_descent(\n",
      "/usr/local/lib/python3.10/dist-packages/sklearn/linear_model/_coordinate_descent.py:631: ConvergenceWarning: Objective did not converge. You might want to increase the number of iterations, check the scale of the features or consider increasing regularisation. Duality gap: 6.194e+00, tolerance: 1.885e-01\n",
      "  model = cd_fast.enet_coordinate_descent(\n",
      "/usr/local/lib/python3.10/dist-packages/sklearn/linear_model/_coordinate_descent.py:631: ConvergenceWarning: Objective did not converge. You might want to increase the number of iterations, check the scale of the features or consider increasing regularisation. Duality gap: 1.590e+01, tolerance: 1.880e-01\n",
      "  model = cd_fast.enet_coordinate_descent(\n",
      "/usr/local/lib/python3.10/dist-packages/sklearn/linear_model/_coordinate_descent.py:631: ConvergenceWarning: Objective did not converge. You might want to increase the number of iterations, check the scale of the features or consider increasing regularisation. Duality gap: 1.585e+01, tolerance: 1.910e-01\n",
      "  model = cd_fast.enet_coordinate_descent(\n",
      "/usr/local/lib/python3.10/dist-packages/sklearn/linear_model/_coordinate_descent.py:631: ConvergenceWarning: Objective did not converge. You might want to increase the number of iterations, check the scale of the features or consider increasing regularisation. Duality gap: 1.563e+01, tolerance: 1.920e-01\n",
      "  model = cd_fast.enet_coordinate_descent(\n",
      "/usr/local/lib/python3.10/dist-packages/sklearn/linear_model/_coordinate_descent.py:631: ConvergenceWarning: Objective did not converge. You might want to increase the number of iterations, check the scale of the features or consider increasing regularisation. Duality gap: 1.560e+01, tolerance: 1.897e-01\n",
      "  model = cd_fast.enet_coordinate_descent(\n",
      "/usr/local/lib/python3.10/dist-packages/sklearn/linear_model/_coordinate_descent.py:631: ConvergenceWarning: Objective did not converge. You might want to increase the number of iterations, check the scale of the features or consider increasing regularisation. Duality gap: 1.543e+01, tolerance: 1.885e-01\n",
      "  model = cd_fast.enet_coordinate_descent(\n"
     ]
    },
    {
     "output_type": "stream",
     "name": "stdout",
     "text": [
      "Best hyper:  {'alpha': 1e-05}\n"
     ]
    },
    {
     "output_type": "stream",
     "name": "stderr",
     "text": [
      "/usr/local/lib/python3.10/dist-packages/sklearn/linear_model/_coordinate_descent.py:631: ConvergenceWarning: Objective did not converge. You might want to increase the number of iterations, check the scale of the features or consider increasing regularisation. Duality gap: 2.046e+01, tolerance: 2.373e-01\n",
      "  model = cd_fast.enet_coordinate_descent(\n"
     ]
    }
   ]
  },
  {
   "cell_type": "code",
   "source": [
    "# 选择文件夹基于是否应用了 PCA\n",
    "folder = 'pca' if apply_pca else 'no_pca'\n",
    "\n",
    "# 构建文件路径\n",
    "file_path = os.path.join(base_dir, 'results', 'TML', 'cv_results', folder, 'Lasso.csv')\n",
    "\n",
    "# 保存网格搜索结果到 CSV 文件\n",
    "pd.DataFrame(grid_search.cv_results_).to_csv(file_path)\n",
    "\n",
    "print(f\"网格搜索结果已保存到: {file_path}\")"
   ],
   "metadata": {
    "id": "m_IR2K3fZ4ZN",
    "colab": {
     "base_uri": "https://localhost:8080/"
    },
    "executionInfo": {
     "status": "ok",
     "timestamp": 1706789571465,
     "user_tz": -60,
     "elapsed": 336,
     "user": {
      "displayName": "Zhiguang Li",
      "userId": "06031394133879865151"
     }
    },
    "outputId": "54d8e98e-b636-4c56-cfd2-44d1a6fbcb6a"
   },
   "execution_count": null,
   "outputs": [
    {
     "output_type": "stream",
     "name": "stdout",
     "text": [
      "网格搜索结果已保存到: /content/drive/MyDrive/W-Workspace/MovieLens_da_li/results/TML/cv_results/no_pca/Lasso.csv\n"
     ]
    }
   ]
  },
  {
   "cell_type": "code",
   "source": [
    "# 转换 mean_test_score 并选择相关列\n",
    "results = pd.DataFrame(grid_search.cv_results_)[['param_alpha', 'mean_test_score']]\n",
    "results['mean_test_score'] = results['mean_test_score'].abs()  # 直接取绝对值\n",
    "\n",
    "# 确定 TensorBoard 写入目录\n",
    "log_dir = base_dir + \"results/TML/pca/Lasso/\" if apply_pca else \"results/TML/no_pca/Lasso/\"\n",
    "writer = SummaryWriter(log_dir)\n",
    "\n",
    "# 批量记录超参数和指标到 TensorBoard\n",
    "for index, row in results.iterrows():\n",
    "    writer.add_hparams({\"alpha\": row['param_alpha']}, {\"hparam/mse\": row['mean_test_score']})\n",
    "writer.close()"
   ],
   "metadata": {
    "id": "PbjfRs1FZ5zM"
   },
   "execution_count": null,
   "outputs": []
  },
  {
   "cell_type": "code",
   "source": [
    "# 将最佳参数转换为 DataFrame 并转置\n",
    "lasso = pd.DataFrame([grid_search.best_params_])\n",
    "\n",
    "# 根据是否应用 PCA 动态确定保存路径\n",
    "folder = 'pca' if apply_pca else 'no_pca'\n",
    "file_path = os.path.join(base_dir, 'results', 'TML', 'best_params', folder, 'lasso.csv')\n",
    "\n",
    "# 确保目录存在\n",
    "os.makedirs(os.path.dirname(file_path), exist_ok=True)\n",
    "\n",
    "# 保存 DataFrame 到 CSV 文件\n",
    "lasso.to_csv(file_path, index=False)\n",
    "\n",
    "print(f\"最佳参数已保存到: {file_path}\")"
   ],
   "metadata": {
    "id": "M2B2vpdcZ7-V",
    "colab": {
     "base_uri": "https://localhost:8080/"
    },
    "executionInfo": {
     "status": "ok",
     "timestamp": 1706790170926,
     "user_tz": -60,
     "elapsed": 330,
     "user": {
      "displayName": "Zhiguang Li",
      "userId": "06031394133879865151"
     }
    },
    "outputId": "b7a2193e-d71a-4933-8bf3-109969dc2cc3"
   },
   "execution_count": null,
   "outputs": [
    {
     "output_type": "stream",
     "name": "stdout",
     "text": [
      "最佳参数已保存到: /content/drive/MyDrive/W-Workspace/MovieLens_da_li/results/TML/best_params/no_pca/lasso.csv\n"
     ]
    }
   ]
  },
  {
   "cell_type": "code",
   "source": [
    "lasso = Lasso(**best_hyper)\n",
    "lasso.fit(X_train, y_train)\n",
    "y_pred= lasso.predict(X_test)\n",
    "\n",
    "print(\"Mean Squared Error: \", mean_squared_error(y_test, y_pred))\n",
    "print(\"R2 Score: \", r2_score(y_test, y_pred))"
   ],
   "metadata": {
    "id": "9nZ2L4SoZ9--",
    "colab": {
     "base_uri": "https://localhost:8080/"
    },
    "executionInfo": {
     "status": "ok",
     "timestamp": 1706790200011,
     "user_tz": -60,
     "elapsed": 20801,
     "user": {
      "displayName": "Zhiguang Li",
      "userId": "06031394133879865151"
     }
    },
    "outputId": "3c3035df-04d9-4bbb-ed24-90deda005577"
   },
   "execution_count": null,
   "outputs": [
    {
     "output_type": "stream",
     "name": "stdout",
     "text": [
      "Mean Squared Error:  0.005423553353396875\n",
      "R2 Score:  0.9755327787772686\n"
     ]
    },
    {
     "output_type": "stream",
     "name": "stderr",
     "text": [
      "/usr/local/lib/python3.10/dist-packages/sklearn/linear_model/_coordinate_descent.py:631: ConvergenceWarning: Objective did not converge. You might want to increase the number of iterations, check the scale of the features or consider increasing regularisation. Duality gap: 2.046e+01, tolerance: 2.373e-01\n",
      "  model = cd_fast.enet_coordinate_descent(\n"
     ]
    }
   ]
  },
  {
   "cell_type": "code",
   "source": [
    "if not apply_pca:\n",
    "    # 假设 lasso 是已训练好的 Lasso 模型，X 是特征 DataFrame，y 是目标变量 Series\n",
    "    lasso_coef = pd.DataFrame(lasso.coef_, index=X.columns, columns=['value'])\n",
    "    zero_coef = lasso_coef[lasso_coef['value'] == 0]\n",
    "    print(\"Number of features that are zero: \", len(zero_coef))\n",
    "\n",
    "    # 计算系数为零的特征与y的相关性\n",
    "    X_zero_coef = X[zero_coef.index]\n",
    "    corr = X_zero_coef.corrwith(y)\n",
    "    display(corr.head(10))"
   ],
   "metadata": {
    "id": "JHri-78mZ_op",
    "colab": {
     "base_uri": "https://localhost:8080/",
     "height": 231
    },
    "executionInfo": {
     "status": "ok",
     "timestamp": 1706790355118,
     "user_tz": -60,
     "elapsed": 628,
     "user": {
      "displayName": "Zhiguang Li",
      "userId": "06031394133879865151"
     }
    },
    "outputId": "c5c77d39-4849-436b-8972-5dc9ed17b107"
   },
   "execution_count": null,
   "outputs": [
    {
     "output_type": "stream",
     "name": "stdout",
     "text": [
      "Number of features that are zero:  146\n"
     ]
    },
    {
     "output_type": "display_data",
     "data": {
      "text/plain": [
       "007           -0.097706\n",
       "1920s          0.379278\n",
       "3d            -0.153728\n",
       "aardman        0.060788\n",
       "afterlife     -0.079177\n",
       "alcoholism     0.206545\n",
       "almodovar      0.083976\n",
       "amnesia        0.062696\n",
       "animation      0.024383\n",
       "arms dealer   -0.073337\n",
       "dtype: float64"
      ]
     },
     "metadata": {}
    }
   ]
  },
  {
   "cell_type": "markdown",
   "source": [
    "## SVR\n",
    "### PCA:\n",
    "* Mean Squared Error: 0.0064\n",
    "* R2 Score: 0.9708\n",
    "\n",
    "### No PCA:\n",
    "* Mean Squared Error: 0.0054\n",
    "* R2 Score: 0.9754"
   ],
   "metadata": {
    "id": "Bx1JCTARwhv_"
   }
  },
  {
   "cell_type": "code",
   "source": [
    "# 定义参数网格\n",
    "param_grid = {\n",
    "    'kernel': ['linear', 'poly', 'rbf'],\n",
    "    'epsilon': [0.001, 0.01, 0.1, 1]\n",
    "}\n",
    "\n",
    "# 初始化 SVR\n",
    "svr = SVR()\n",
    "\n",
    "# 执行网格搜索\n",
    "grid_search = GridSearchCV(svr, param_grid, cv=5, scoring='neg_mean_squared_error', return_train_score=True)\n",
    "grid_search.fit(X_train, y_train)\n",
    "\n",
    "# 获取并打印最佳超参数\n",
    "best_hyper = grid_search.best_params_\n",
    "print(\"Best hyperparameters:\", best_hyper)\n",
    "\n",
    "# 打印最佳得分\n",
    "best_score = np.sqrt(-grid_search.best_score_)  # 将得分转换为正值并开平方\n",
    "print(\"Best score (RMSE):\", best_score)"
   ],
   "metadata": {
    "id": "Gi9XyEyjaB6O",
    "colab": {
     "base_uri": "https://localhost:8080/"
    },
    "executionInfo": {
     "status": "ok",
     "timestamp": 1706799035406,
     "user_tz": -60,
     "elapsed": 6429758,
     "user": {
      "displayName": "Zhiguang Li",
      "userId": "06031394133879865151"
     }
    },
    "outputId": "46f45a8b-b3cd-4628-81b7-304ae5947053"
   },
   "execution_count": null,
   "outputs": [
    {
     "output_type": "stream",
     "name": "stdout",
     "text": [
      "Best hyperparameters: {'epsilon': 0.001, 'kernel': 'rbf'}\n",
      "Best score (RMSE): 0.07442577751016524\n"
     ]
    }
   ]
  },
  {
   "cell_type": "code",
   "source": [
    "# 确定文件保存的路径\n",
    "folder = \"pca\" if apply_pca else \"no_pca\"\n",
    "file_path = os.path.join(base_dir, \"results\", \"TML\", \"cv_results\", folder, \"SVR.csv\")\n",
    "\n",
    "# 确保目标目录存在\n",
    "os.makedirs(os.path.dirname(file_path), exist_ok=True)\n",
    "\n",
    "# 保存 GridSearchCV 的结果到 CSV 文件\n",
    "pd.DataFrame(grid_search.cv_results_).to_csv(file_path)\n",
    "\n",
    "print(f\"GridSearchCV 的结果已保存到: {file_path}\")"
   ],
   "metadata": {
    "id": "wK0LHDrhaFpy",
    "colab": {
     "base_uri": "https://localhost:8080/"
    },
    "executionInfo": {
     "status": "ok",
     "timestamp": 1706799035407,
     "user_tz": -60,
     "elapsed": 8,
     "user": {
      "displayName": "Zhiguang Li",
      "userId": "06031394133879865151"
     }
    },
    "outputId": "f59123c7-1ce5-40db-f5cb-0de44ad47228"
   },
   "execution_count": null,
   "outputs": [
    {
     "output_type": "stream",
     "name": "stdout",
     "text": [
      "GridSearchCV 的结果已保存到: /content/drive/MyDrive/W-Workspace/MovieLens_da_li/results/TML/cv_results/no_pca/SVR.csv\n"
     ]
    }
   ]
  },
  {
   "cell_type": "code",
   "source": [
    "# 转换 mean_test_score 并选择相关列\n",
    "results = pd.DataFrame(grid_search.cv_results_)[['param_kernel', 'param_epsilon', 'mean_test_score']]\n",
    "results['mean_test_score'] = results['mean_test_score'].abs()  # 将负 MSE 转换为正值\n",
    "\n",
    "# 确定 TensorBoard 写入目录\n",
    "log_dir = os.path.join(base_dir, \"results\", \"TML\", \"pca\" if apply_pca else \"no_pca\", \"SVR\")\n",
    "writer = SummaryWriter(log_dir)\n",
    "\n",
    "# 批量记录超参数和指标到 TensorBoard\n",
    "for index, row in results.iterrows():\n",
    "    writer.add_hparams(\n",
    "        {\"kernel\": row['param_kernel'], \"epsilon\": row['param_epsilon']},\n",
    "        {\"hparam/mse\": row['mean_test_score']}\n",
    "    )\n",
    "\n",
    "writer.close()"
   ],
   "metadata": {
    "id": "6HQXiZnxaHR0"
   },
   "execution_count": null,
   "outputs": []
  },
  {
   "cell_type": "code",
   "source": [
    "# 将最佳参数转换为 DataFrame\n",
    "svr = pd.DataFrame([grid_search.best_params_])\n",
    "\n",
    "# 根据是否应用了 PCA 构建文件路径\n",
    "folder = 'pca' if apply_pca else 'no_pca'\n",
    "file_path = os.path.join(base_dir, 'results', 'TML', 'best_params', folder, 'svr.csv')\n",
    "\n",
    "# 确保目录存在\n",
    "os.makedirs(os.path.dirname(file_path), exist_ok=True)\n",
    "\n",
    "# 保存 DataFrame 到 CSV 文件\n",
    "svr.to_csv(file_path, index=False)\n",
    "\n",
    "print(f\"SVR 最佳参数已保存到: {file_path}\")"
   ],
   "metadata": {
    "id": "kc1gxMHZaJiV",
    "colab": {
     "base_uri": "https://localhost:8080/"
    },
    "executionInfo": {
     "status": "ok",
     "timestamp": 1706799941194,
     "user_tz": -60,
     "elapsed": 264,
     "user": {
      "displayName": "Zhiguang Li",
      "userId": "06031394133879865151"
     }
    },
    "outputId": "105b5392-a1a6-459a-8acc-017e257f0516"
   },
   "execution_count": null,
   "outputs": [
    {
     "output_type": "stream",
     "name": "stdout",
     "text": [
      "SVR 最佳参数已保存到: /content/drive/MyDrive/W-Workspace/MovieLens_da_li/results/TML/best_params/no_pca/svr.csv\n"
     ]
    }
   ]
  },
  {
   "cell_type": "code",
   "source": [
    "svr = SVR(**best_hyper)\n",
    "svr.fit(X_train, y_train)\n",
    "y_pred= svr.predict(X_test)\n",
    "\n",
    "print(\"Mean Squared Error: \", mean_squared_error(y_test, y_pred))\n",
    "print(\"R2 Score: \", r2_score(y_test, y_pred))"
   ],
   "metadata": {
    "id": "9B78ASv5aLCE",
    "colab": {
     "base_uri": "https://localhost:8080/"
    },
    "executionInfo": {
     "status": "ok",
     "timestamp": 1706800525037,
     "user_tz": -60,
     "elapsed": 582095,
     "user": {
      "displayName": "Zhiguang Li",
      "userId": "06031394133879865151"
     }
    },
    "outputId": "8a5bc035-aabc-4343-8c48-66b0bdee6491"
   },
   "execution_count": null,
   "outputs": [
    {
     "output_type": "stream",
     "name": "stdout",
     "text": [
      "Mean Squared Error:  0.005214488613478727\n",
      "R2 Score:  0.9764759304175574\n"
     ]
    }
   ]
  }
 ]
}
