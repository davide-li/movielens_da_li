{
 "nbformat": 4,
 "nbformat_minor": 0,
 "metadata": {
  "colab": {
   "provenance": [],
   "authorship_tag": "ABX9TyN7nja1tJZch1ll/BMnpf6F"
  },
  "kernelspec": {
   "name": "python3",
   "display_name": "Python 3"
  },
  "language_info": {
   "name": "python"
  }
 },
 "cells": [
  {
   "cell_type": "markdown",
   "source": [
    "# Neural Networks"
   ],
   "metadata": {
    "id": "ccg7MQkXS0Gr"
   }
  },
  {
   "cell_type": "code",
   "execution_count": null,
   "metadata": {
    "id": "dXVwQ2ooixgu"
   },
   "outputs": [],
   "source": [
    "import os\n",
    "import copy\n",
    "import time\n",
    "import torch\n",
    "import random\n",
    "import numpy as np\n",
    "import pandas as pd\n",
    "import seaborn as sns\n",
    "import torch.nn as nn\n",
    "import torch.optim as optim\n",
    "import matplotlib.pyplot as plt\n",
    "\n",
    "from itertools import product\n",
    "from sklearn.metrics import r2_score\n",
    "from sklearn.decomposition import PCA\n",
    "from sklearn.metrics import mean_squared_error\n",
    "from sklearn.model_selection import train_test_split\n",
    "from torch.utils.data import TensorDataset, DataLoader\n",
    "from torch.utils.tensorboard import SummaryWriter"
   ]
  },
  {
   "cell_type": "code",
   "source": [
    "#import dataset\n",
    "#加载drive文件\n",
    "from google.colab import drive\n",
    "\n",
    "drive.mount('/content/drive') #connect the drive\n",
    "dataset_file = '/content/drive/MyDrive/W-Workspace/MovieLens_da_li/dataset'\n",
    "df = pd.read_csv(dataset_file + '/dataset.csv', sep=',')"
   ],
   "metadata": {
    "id": "-pCQIwHni3z7",
    "colab": {
     "base_uri": "https://localhost:8080/"
    },
    "executionInfo": {
     "status": "ok",
     "timestamp": 1706803334457,
     "user_tz": -60,
     "elapsed": 28050,
     "user": {
      "displayName": "Zhiguang Li",
      "userId": "06031394133879865151"
     }
    },
    "outputId": "ac156165-d3a7-4418-f3c0-1b6d06fb048d"
   },
   "execution_count": null,
   "outputs": [
    {
     "output_type": "stream",
     "name": "stdout",
     "text": [
      "Mounted at /content/drive\n"
     ]
    }
   ]
  },
  {
   "cell_type": "code",
   "source": [
    "def fix_random(seed):\n",
    "    \"\"\"\n",
    "    Fix the random seed for reproducibility across multiple libraries.\n",
    "    \"\"\"\n",
    "    # Set the seed for generating random numbers\n",
    "    random.seed(seed)\n",
    "    torch.manual_seed(seed)\n",
    "    if torch.cuda.is_available():\n",
    "        torch.cuda.manual_seed_all(seed)  # For all GPUs\n",
    "\n",
    "    # Ensure that all operations are deterministic on GPU (if used)\n",
    "    torch.backends.cudnn.deterministic = True\n",
    "    torch.backends.cudnn.benchmark = False\n",
    "\n",
    "# Initialize the seed\n",
    "fix_random(42)\n",
    "\n",
    "# Configure device\n",
    "apply_pca = True  # Flag to apply PCA\n",
    "device = torch.device(\"cuda:0\" if torch.cuda.is_available() else \"cpu\")  # Use CUDA if available"
   ],
   "metadata": {
    "id": "Andykkrti50c"
   },
   "execution_count": null,
   "outputs": []
  },
  {
   "cell_type": "markdown",
   "source": [
    "## Data Preprocess\n"
   ],
   "metadata": {
    "id": "4cvJCuBsT8Ml"
   }
  },
  {
   "cell_type": "code",
   "source": [
    "# Dividi il dataset in feature e target\n",
    "X = df.drop(['rating'], axis=1).to_numpy()\n",
    "y = df['rating'].to_numpy()\n",
    "\n",
    "# Dividi il dataset in training, validation e test\n",
    "X_train_val, X_test, y_train_val, y_test = train_test_split(X, y, test_size=0.20, random_state=42)\n",
    "X_train, X_val, y_train, y_val = train_test_split(X_train_val, y_train_val, test_size=0.1, random_state=42)\n",
    "\n",
    "\n",
    "#count the numebr of x_train\n",
    "print(\"Number of train set: \", X_train.shape[0])\n",
    "print(\"Numebr of test set: \", X_test.shape[0])\n",
    "print(\"Number of validation set: \", X_val.shape[0])"
   ],
   "metadata": {
    "id": "T2w4e0aMjC1m",
    "colab": {
     "base_uri": "https://localhost:8080/"
    },
    "executionInfo": {
     "status": "ok",
     "timestamp": 1706803334966,
     "user_tz": -60,
     "elapsed": 511,
     "user": {
      "displayName": "Zhiguang Li",
      "userId": "06031394133879865151"
     }
    },
    "outputId": "63e17d15-6c9c-45e8-9ce3-3c0977ee17c1"
   },
   "execution_count": null,
   "outputs": [
    {
     "output_type": "stream",
     "name": "stdout",
     "text": [
      "Number of train set:  9946\n",
      "Numebr of test set:  2764\n",
      "Number of validation set:  1106\n"
     ]
    }
   ]
  },
  {
   "cell_type": "code",
   "source": [
    "if apply_pca:\n",
    "    try:\n",
    "        pca = PCA(n_components=0.95)\n",
    "        pca.fit(X_train)\n",
    "        X_train = pca.transform(X_train)\n",
    "        X_val = pca.transform(X_val)\n",
    "        X_test = pca.transform(X_test)\n",
    "        print(\"PCA applied to the dataset\")\n",
    "    except Exception as e:\n",
    "        print(\"Error occurred while applying PCA:\", e)\n",
    "else:\n",
    "    print(\"PCA was not applied to the dataset\")"
   ],
   "metadata": {
    "id": "kR_6fyyHjE-j",
    "colab": {
     "base_uri": "https://localhost:8080/"
    },
    "executionInfo": {
     "status": "ok",
     "timestamp": 1706803342018,
     "user_tz": -60,
     "elapsed": 7053,
     "user": {
      "displayName": "Zhiguang Li",
      "userId": "06031394133879865151"
     }
    },
    "outputId": "39b1e387-a757-4594-c89b-306c0de3d718"
   },
   "execution_count": null,
   "outputs": [
    {
     "output_type": "stream",
     "name": "stdout",
     "text": [
      "PCA applied to the dataset\n"
     ]
    }
   ]
  },
  {
   "cell_type": "code",
   "source": [
    "# Converti i dati in tensori PyTorch\n",
    "X_train = np.array(X_train, dtype=np.float32)\n",
    "X_val = np.array(X_val, dtype=np.float32)\n",
    "X_test = np.array(X_test, dtype=np.float32)\n",
    "\n",
    "y_train = np.array(y_train, dtype=np.float32)\n",
    "y_val = np.array(y_val, dtype=np.float32)\n",
    "y_test = np.array(y_test, dtype=np.float32)\n",
    "\n",
    "val_dataloader = DataLoader(TensorDataset(torch.from_numpy(X_val), torch.from_numpy(y_val)), batch_size=y_val.shape[0])\n",
    "test_dataloader = DataLoader(TensorDataset(torch.from_numpy(X_test), torch.from_numpy(y_test)), batch_size=y_test.shape[0])"
   ],
   "metadata": {
    "id": "nIWfOLSwjHJ-"
   },
   "execution_count": null,
   "outputs": []
  },
  {
   "cell_type": "markdown",
   "source": [
    "## NN params setting\n"
   ],
   "metadata": {
    "id": "urDF4GXiUFEQ"
   }
  },
  {
   "cell_type": "code",
   "source": [
    "import torch.nn as nn\n",
    "\n",
    "def get_model(input_size, hidden_size=32, dropout_prob=0.2):\n",
    "    model = [\n",
    "        nn.Linear(input_size, hidden_size),\n",
    "        nn.ReLU(),\n",
    "        nn.Dropout(dropout_prob),\n",
    "        nn.Linear(hidden_size, hidden_size // 2),  # 减少隐藏层单元数\n",
    "        nn.ReLU(),\n",
    "        nn.Dropout(dropout_prob),\n",
    "        nn.Linear(hidden_size // 2, 1)             # 输出层\n",
    "    ]\n",
    "    return nn.Sequential(*model)"
   ],
   "metadata": {
    "id": "fiERJuIBjI-3"
   },
   "execution_count": null,
   "outputs": []
  },
  {
   "cell_type": "code",
   "source": [
    "from itertools import product\n",
    "\n",
    "# 调整后的超参数\n",
    "hidden_size = [128, 256]        # 减少选项\n",
    "dropout_prob = [0.3]            # 减少选项，选择一个中间值\n",
    "dept = [3, 4]                   # 减少模型深度的选项\n",
    "epochs = 200                    # 保持不变，但可根据实际训练情况提前停止\n",
    "batch_size = [16, 32]           # 减少选项，较小的批量大小可能导致训练时间增加\n",
    "learning_rate = [0.001]         # 减少选项，通常较小的学习率更稳定\n",
    "\n",
    "# 重新计算组合数\n",
    "params = product(hidden_size, dropout_prob, dept, batch_size, learning_rate)\n",
    "combinations = len(hidden_size)*len(dropout_prob)*len(dept)*len(batch_size)*len(learning_rate)\n",
    "print(\"Number of combinations: \", combinations)"
   ],
   "metadata": {
    "id": "3P9XWyLTjK--",
    "colab": {
     "base_uri": "https://localhost:8080/"
    },
    "executionInfo": {
     "status": "ok",
     "timestamp": 1706803342401,
     "user_tz": -60,
     "elapsed": 19,
     "user": {
      "displayName": "Zhiguang Li",
      "userId": "06031394133879865151"
     }
    },
    "outputId": "6e3cc69f-d2d2-481d-a489-bec1c3fe699c"
   },
   "execution_count": null,
   "outputs": [
    {
     "output_type": "stream",
     "name": "stdout",
     "text": [
      "Number of combinations:  8\n"
     ]
    }
   ]
  },
  {
   "cell_type": "markdown",
   "source": [
    "## Define function of train\n"
   ],
   "metadata": {
    "id": "9JlFl2xFUN5j"
   }
  },
  {
   "cell_type": "code",
   "source": [
    "import torch\n",
    "import torch.nn as nn\n",
    "import torch.optim as optim\n",
    "import time\n",
    "import copy\n",
    "from torch.utils.tensorboard import SummaryWriter\n",
    "import numpy as np\n",
    "\n",
    "def train(model, writer, train_dataloader, val_dataloader, device, hidden_size=3,\n",
    "          dropout_prob=0.2, dept=2, epochs=60, batch_size=64, learning_rate=0.001):\n",
    "    # 定义损失函数和优化器\n",
    "    criterion = nn.MSELoss()\n",
    "    optimizer = optim.Adam(model.parameters(), lr=learning_rate)\n",
    "\n",
    "    # 定义训练和验证损失列表\n",
    "    train_loss = []\n",
    "    val_loss = []\n",
    "\n",
    "    # 早停设置\n",
    "    best_model = None\n",
    "    best_loss = np.inf\n",
    "    patience = 10\n",
    "    patience_counter = 0\n",
    "\n",
    "    # 训练循环\n",
    "    for epoch in range(epochs):\n",
    "        epoch_start = time.time()\n",
    "        epoch_loss = 0\n",
    "\n",
    "        for x, y in train_dataloader:\n",
    "            x, y = x.to(device), y.to(device)\n",
    "            optimizer.zero_grad()                    # 重置梯度\n",
    "            y_pred = model(x)                        # 前向传播\n",
    "            loss = criterion(y_pred, y.unsqueeze(1)) # 计算损失\n",
    "            loss.backward()                          # 反向传播\n",
    "            optimizer.step()                         # 更新参数\n",
    "            epoch_loss += loss.item()                # 累积损失\n",
    "\n",
    "        # 保存平均训练损失\n",
    "        train_loss.append(epoch_loss / len(train_dataloader))\n",
    "\n",
    "        # 在验证集上计算损失\n",
    "        model.eval()\n",
    "        epoch_val_loss = 0\n",
    "        with torch.no_grad():\n",
    "            for x, y in val_dataloader:\n",
    "                x, y = x.to(device), y.to(device)\n",
    "                y_pred = model(x)\n",
    "                loss = criterion(y_pred, y.unsqueeze(1))\n",
    "                epoch_val_loss += loss.item()\n",
    "        val_loss.append(epoch_val_loss / len(val_dataloader))\n",
    "\n",
    "        # 在 TensorBoard 中记录结果\n",
    "        writer.add_scalar('Loss/train', train_loss[-1], epoch)\n",
    "        writer.add_scalar('Loss/val', val_loss[-1], epoch)\n",
    "\n",
    "        print(f'Epoch {epoch+1}/{epochs}, 训练损失: {train_loss[-1]:.4f}, 验证损失: {val_loss[-1]:.4f}, 时间: {time.time()-epoch_start:.2f}秒')\n",
    "\n",
    "        # 早停判断\n",
    "        if val_loss[-1] < best_loss:\n",
    "            best_loss = val_loss[-1]\n",
    "            best_model = copy.deepcopy(model)  # 深拷贝最佳模型\n",
    "            patience_counter = 0\n",
    "        else:\n",
    "            patience_counter += 1\n",
    "            if patience_counter == patience:  # 耐心用尽，提前停止\n",
    "                print(\"触发早停。\")\n",
    "                break\n",
    "\n",
    "    print(f\"训练完成，共 {epoch+1} 轮，最佳验证损失: {best_loss:.4f}\")\n",
    "\n",
    "    return best_model, train_loss, val_loss"
   ],
   "metadata": {
    "id": "FCab3NvDjNEC"
   },
   "execution_count": null,
   "outputs": []
  },
  {
   "cell_type": "markdown",
   "source": [
    "## Define test model\n"
   ],
   "metadata": {
    "id": "Jl7SQ-uZUfZE"
   }
  },
  {
   "cell_type": "code",
   "source": [
    "def test_model(model, test_dataloader, device):\n",
    "    model.eval()  # 设置模型为评估模式\n",
    "    y_pred_list = []\n",
    "    y_true_list = []\n",
    "    with torch.no_grad():  # 禁用梯度计算\n",
    "        for x, y in test_dataloader:\n",
    "            x, y = x.to(device), y.to(device)  # 数据移动到指定设备\n",
    "            outputs = model(x).squeeze(1)  # 预测结果\n",
    "            y_pred_list.append(outputs)\n",
    "            y_true_list.append(y)\n",
    "\n",
    "    # 使用 torch.cat 将列表中的所有张量连接在一起\n",
    "    y_pred = torch.cat(y_pred_list).cpu().numpy()\n",
    "    y_true = torch.cat(y_true_list).cpu().numpy()\n",
    "\n",
    "    return y_pred, y_true"
   ],
   "metadata": {
    "id": "X0dOPItjjPao"
   },
   "execution_count": null,
   "outputs": []
  },
  {
   "cell_type": "markdown",
   "source": [
    "## Train model"
   ],
   "metadata": {
    "id": "eMw7lq6uUY3g"
   }
  },
  {
   "cell_type": "code",
   "source": [
    "# 训练模型\n",
    "best_model = None   # 存储最佳模型\n",
    "best_loss = np.inf  # 初始化最佳损失为无穷大\n",
    "best_config = None  # 存储最佳配置\n",
    "iter = 0            # 初始化迭代计数器\n",
    "\n",
    "# 遍历所有超参数组合\n",
    "for hidden_size, dropout_prob, dept, batch_size, learning_rate in params:\n",
    "    iter += 1\n",
    "    # 打印当前迭代信息\n",
    "    print(f'\\nIteration {iter+1}/{combinations}')\n",
    "    print(f'hidden_size: {hidden_size}, dropout_prob: {dropout_prob}, dept: {dept}, batch_size: {batch_size}, learning_rate: {learning_rate}')\n",
    "\n",
    "    # 构建日志字符串，用于TensorBoard记录和检查模型是否已训练\n",
    "    log = f'hidden_size_{hidden_size}_dropout_prob_{dropout_prob}_dept_{dept}_batch_size_{batch_size}_learning_rate_{learning_rate}'\n",
    "\n",
    "    # 基本目录路径\n",
    "    base_path = \"/content/drive/MyDrive/W-Workspace/MovieLens_da_li/results/NN/\"\n",
    "    # 根据是否应用 PCA 选择子目录\n",
    "    sub_dir = \"pca\" if apply_pca else \"no_pca\"\n",
    "    # 完整的日志路径\n",
    "    full_path = os.path.join(base_path, sub_dir, log)\n",
    "\n",
    "    # 检查模型是否已训练\n",
    "    if os.path.exists(full_path):\n",
    "        print(\"Model already trained. Skipping...\")  # 如果模型已训练，则跳过\n",
    "    else:\n",
    "        writer = SummaryWriter(full_path)\n",
    "\n",
    "    # 创建模型实例\n",
    "    model = get_model(X_train.shape[1], hidden_size=hidden_size, dropout_prob=dropout_prob)\n",
    "\n",
    "    # 准备训练数据加载器\n",
    "    train_dataloader = DataLoader(TensorDataset(torch.from_numpy(X_train), torch.from_numpy(y_train)), batch_size=batch_size, shuffle=True)\n",
    "\n",
    "    # 配置字典，用于TensorBoard记录\n",
    "    config = {\n",
    "        'hidden_size': hidden_size,\n",
    "        'dropout_prob': dropout_prob,\n",
    "        'dept': dept,\n",
    "        'batch_size': batch_size,\n",
    "        'learning_rate': learning_rate\n",
    "    }\n",
    "\n",
    "    # 训练模型并获取训练和验证损失\n",
    "    model, train_loss, val_loss = train(model, writer, train_dataloader, val_dataloader, device, **config)\n",
    "\n",
    "    # 在测试集上评估模型\n",
    "    y_pred, y_true = test_model(model, test_dataloader, device)\n",
    "    test_loss = mean_squared_error(y_true, y_pred)\n",
    "    print(f'Test loss: {test_loss:.4f} - Best Test loss: {best_loss:.4f}')  # 打印测试损失和最佳测试损失\n",
    "\n",
    "    # 将结果保存到TensorBoard\n",
    "    writer.add_hparams(config, {'hparam/loss': test_loss})\n",
    "    writer.flush()\n",
    "\n",
    "    # 早停判断\n",
    "    if test_loss < best_loss:\n",
    "        best_loss = test_loss  # 更新最佳损失\n",
    "        best_model = copy.deepcopy(model)  # 更新最佳模型\n",
    "        best_config = config  # 更新最佳配置\n",
    "\n",
    "    writer.close()  # 关闭TensorBoard写入器"
   ],
   "metadata": {
    "id": "G8qI6gzpjRtK",
    "colab": {
     "base_uri": "https://localhost:8080/"
    },
    "executionInfo": {
     "status": "ok",
     "timestamp": 1706804027568,
     "user_tz": -60,
     "elapsed": 685177,
     "user": {
      "displayName": "Zhiguang Li",
      "userId": "06031394133879865151"
     }
    },
    "outputId": "22d95f18-3bd0-42ae-b9d9-9f53169760be"
   },
   "execution_count": null,
   "outputs": [
    {
     "output_type": "stream",
     "name": "stdout",
     "text": [
      "\n",
      "Iteration 2/8\n",
      "hidden_size: 128, dropout_prob: 0.3, dept: 3, batch_size: 16, learning_rate: 0.001\n",
      "Epoch 1/60, 训练损失: 0.8667, 验证损失: 0.0605, 时间: 1.88秒\n",
      "Epoch 2/60, 训练损失: 0.0223, 验证损失: 0.0143, 时间: 1.76秒\n",
      "Epoch 3/60, 训练损失: 0.0114, 验证损失: 0.0130, 时间: 1.63秒\n",
      "Epoch 4/60, 训练损失: 0.0093, 验证损失: 0.0128, 时间: 1.46秒\n",
      "Epoch 5/60, 训练损失: 0.0089, 验证损失: 0.0120, 时间: 1.57秒\n",
      "Epoch 6/60, 训练损失: 0.0093, 验证损失: 0.0126, 时间: 1.80秒\n",
      "Epoch 7/60, 训练损失: 0.0090, 验证损失: 0.0128, 时间: 2.18秒\n",
      "Epoch 8/60, 训练损失: 0.0095, 验证损失: 0.0137, 时间: 1.73秒\n",
      "Epoch 9/60, 训练损失: 0.0084, 验证损失: 0.0127, 时间: 1.53秒\n",
      "Epoch 10/60, 训练损失: 0.0077, 验证损失: 0.0111, 时间: 1.55秒\n",
      "Epoch 11/60, 训练损失: 0.0067, 验证损失: 0.0096, 时间: 1.57秒\n",
      "Epoch 12/60, 训练损失: 0.0069, 验证损失: 0.0110, 时间: 1.41秒\n",
      "Epoch 13/60, 训练损失: 0.0061, 验证损失: 0.0091, 时间: 1.69秒\n",
      "Epoch 14/60, 训练损失: 0.0051, 验证损失: 0.0147, 时间: 1.66秒\n",
      "Epoch 15/60, 训练损失: 0.0059, 验证损失: 0.0110, 时间: 2.09秒\n",
      "Epoch 16/60, 训练损失: 0.0044, 验证损失: 0.0090, 时间: 1.80秒\n",
      "Epoch 17/60, 训练损失: 0.0047, 验证损失: 0.0090, 时间: 1.41秒\n",
      "Epoch 18/60, 训练损失: 0.0041, 验证损失: 0.0094, 时间: 1.47秒\n",
      "Epoch 19/60, 训练损失: 0.0038, 验证损失: 0.0083, 时间: 1.49秒\n",
      "Epoch 20/60, 训练损失: 0.0037, 验证损失: 0.0085, 时间: 1.49秒\n",
      "Epoch 21/60, 训练损失: 0.0034, 验证损失: 0.0107, 时间: 1.44秒\n",
      "Epoch 22/60, 训练损失: 0.0041, 验证损失: 0.0085, 时间: 1.51秒\n",
      "Epoch 23/60, 训练损失: 0.0031, 验证损失: 0.0093, 时间: 1.88秒\n",
      "Epoch 24/60, 训练损失: 0.0031, 验证损失: 0.0087, 时间: 2.32秒\n",
      "Epoch 25/60, 训练损失: 0.0029, 验证损失: 0.0098, 时间: 1.59秒\n",
      "Epoch 26/60, 训练损失: 0.0027, 验证损失: 0.0083, 时间: 1.58秒\n",
      "Epoch 27/60, 训练损失: 0.0023, 验证损失: 0.0073, 时间: 1.48秒\n",
      "Epoch 28/60, 训练损失: 0.0023, 验证损失: 0.0078, 时间: 1.51秒\n",
      "Epoch 29/60, 训练损失: 0.0025, 验证损失: 0.0076, 时间: 2.49秒\n",
      "Epoch 30/60, 训练损失: 0.0027, 验证损失: 0.0083, 时间: 2.09秒\n",
      "Epoch 31/60, 训练损失: 0.0023, 验证损失: 0.0073, 时间: 2.24秒\n",
      "Epoch 32/60, 训练损失: 0.0019, 验证损失: 0.0079, 时间: 1.77秒\n",
      "Epoch 33/60, 训练损失: 0.0019, 验证损失: 0.0081, 时间: 1.46秒\n",
      "Epoch 34/60, 训练损失: 0.0019, 验证损失: 0.0084, 时间: 1.56秒\n",
      "Epoch 35/60, 训练损失: 0.0021, 验证损失: 0.0075, 时间: 1.55秒\n",
      "Epoch 36/60, 训练损失: 0.0019, 验证损失: 0.0075, 时间: 1.50秒\n",
      "Epoch 37/60, 训练损失: 0.0018, 验证损失: 0.0073, 时间: 1.45秒\n",
      "触发早停。\n",
      "训练完成，共 37 轮，最佳验证损失: 0.0073\n",
      "Test loss: 0.0074 - Best Test loss: inf\n",
      "\n",
      "Iteration 3/8\n",
      "hidden_size: 128, dropout_prob: 0.3, dept: 3, batch_size: 32, learning_rate: 0.001\n",
      "Epoch 1/60, 训练损失: 1.2833, 验证损失: 0.0575, 时间: 0.97秒\n",
      "Epoch 2/60, 训练损失: 0.0274, 验证损失: 0.0206, 时间: 1.13秒\n",
      "Epoch 3/60, 训练损失: 0.0150, 验证损失: 0.0178, 时间: 1.27秒\n",
      "Epoch 4/60, 训练损失: 0.0106, 验证损失: 0.0159, 时间: 1.37秒\n",
      "Epoch 5/60, 训练损失: 0.0082, 验证损失: 0.0143, 时间: 1.01秒\n",
      "Epoch 6/60, 训练损失: 0.0069, 验证损失: 0.0135, 时间: 0.90秒\n",
      "Epoch 7/60, 训练损失: 0.0059, 验证损失: 0.0131, 时间: 0.89秒\n",
      "Epoch 8/60, 训练损失: 0.0056, 验证损失: 0.0129, 时间: 0.93秒\n",
      "Epoch 9/60, 训练损失: 0.0054, 验证损失: 0.0127, 时间: 0.94秒\n",
      "Epoch 10/60, 训练损失: 0.0058, 验证损失: 0.0137, 时间: 0.86秒\n",
      "Epoch 11/60, 训练损失: 0.0056, 验证损失: 0.0124, 时间: 0.94秒\n",
      "Epoch 12/60, 训练损失: 0.0059, 验证损失: 0.0162, 时间: 0.90秒\n",
      "Epoch 13/60, 训练损失: 0.0061, 验证损失: 0.0133, 时间: 0.86秒\n",
      "Epoch 14/60, 训练损失: 0.0067, 验证损失: 0.0126, 时间: 0.81秒\n",
      "Epoch 15/60, 训练损失: 0.0061, 验证损失: 0.0123, 时间: 0.93秒\n",
      "Epoch 16/60, 训练损失: 0.0055, 验证损失: 0.0121, 时间: 1.16秒\n",
      "Epoch 17/60, 训练损失: 0.0049, 验证损失: 0.0114, 时间: 1.32秒\n",
      "Epoch 18/60, 训练损失: 0.0039, 验证损失: 0.0117, 时间: 1.43秒\n",
      "Epoch 19/60, 训练损失: 0.0042, 验证损失: 0.0102, 时间: 1.02秒\n",
      "Epoch 20/60, 训练损失: 0.0044, 验证损失: 0.0102, 时间: 0.91秒\n",
      "Epoch 21/60, 训练损失: 0.0039, 验证损失: 0.0101, 时间: 0.90秒\n",
      "Epoch 22/60, 训练损失: 0.0038, 验证损失: 0.0100, 时间: 0.83秒\n",
      "Epoch 23/60, 训练损失: 0.0039, 验证损失: 0.0106, 时间: 0.85秒\n",
      "Epoch 24/60, 训练损失: 0.0037, 验证损失: 0.0106, 时间: 0.88秒\n",
      "Epoch 25/60, 训练损失: 0.0030, 验证损失: 0.0093, 时间: 0.88秒\n",
      "Epoch 26/60, 训练损失: 0.0033, 验证损失: 0.0092, 时间: 0.85秒\n",
      "Epoch 27/60, 训练损失: 0.0041, 验证损失: 0.0096, 时间: 0.84秒\n",
      "Epoch 28/60, 训练损失: 0.0028, 验证损失: 0.0097, 时间: 0.79秒\n",
      "Epoch 29/60, 训练损失: 0.0027, 验证损失: 0.0092, 时间: 0.86秒\n",
      "Epoch 30/60, 训练损失: 0.0025, 验证损失: 0.0105, 时间: 1.00秒\n",
      "Epoch 31/60, 训练损失: 0.0028, 验证损失: 0.0089, 时间: 1.23秒\n",
      "Epoch 32/60, 训练损失: 0.0025, 验证损失: 0.0081, 时间: 1.26秒\n",
      "Epoch 33/60, 训练损失: 0.0022, 验证损失: 0.0085, 时间: 1.06秒\n",
      "Epoch 34/60, 训练损失: 0.0023, 验证损失: 0.0093, 时间: 0.82秒\n",
      "Epoch 35/60, 训练损失: 0.0026, 验证损失: 0.0097, 时间: 0.78秒\n",
      "Epoch 36/60, 训练损失: 0.0023, 验证损失: 0.0082, 时间: 0.88秒\n",
      "Epoch 37/60, 训练损失: 0.0021, 验证损失: 0.0092, 时间: 0.92秒\n",
      "Epoch 38/60, 训练损失: 0.0023, 验证损失: 0.0085, 时间: 0.89秒\n",
      "Epoch 39/60, 训练损失: 0.0020, 验证损失: 0.0082, 时间: 0.79秒\n",
      "Epoch 40/60, 训练损失: 0.0018, 验证损失: 0.0084, 时间: 0.80秒\n",
      "Epoch 41/60, 训练损失: 0.0018, 验证损失: 0.0085, 时间: 0.82秒\n",
      "Epoch 42/60, 训练损失: 0.0018, 验证损失: 0.0092, 时间: 0.79秒\n",
      "触发早停。\n",
      "训练完成，共 42 轮，最佳验证损失: 0.0081\n",
      "Test loss: 0.0086 - Best Test loss: 0.0074\n",
      "\n",
      "Iteration 4/8\n",
      "hidden_size: 128, dropout_prob: 0.3, dept: 4, batch_size: 16, learning_rate: 0.001\n",
      "Epoch 1/60, 训练损失: 0.9124, 验证损失: 0.0561, 时间: 1.54秒\n",
      "Epoch 2/60, 训练损失: 0.0235, 验证损失: 0.0146, 时间: 1.86秒\n",
      "Epoch 3/60, 训练损失: 0.0117, 验证损失: 0.0140, 时间: 2.34秒\n",
      "Epoch 4/60, 训练损失: 0.0094, 验证损失: 0.0129, 时间: 1.43秒\n",
      "Epoch 5/60, 训练损失: 0.0086, 验证损失: 0.0137, 时间: 1.40秒\n",
      "Epoch 6/60, 训练损失: 0.0088, 验证损失: 0.0121, 时间: 1.40秒\n",
      "Epoch 7/60, 训练损失: 0.0085, 验证损失: 0.0170, 时间: 1.44秒\n",
      "Epoch 8/60, 训练损失: 0.0088, 验证损失: 0.0134, 时间: 1.43秒\n",
      "Epoch 9/60, 训练损失: 0.0079, 验证损失: 0.0109, 时间: 1.30秒\n",
      "Epoch 10/60, 训练损失: 0.0066, 验证损失: 0.0098, 时间: 1.30秒\n",
      "Epoch 11/60, 训练损失: 0.0063, 验证损失: 0.0102, 时间: 1.95秒\n",
      "Epoch 12/60, 训练损失: 0.0056, 验证损失: 0.0104, 时间: 2.11秒\n",
      "Epoch 13/60, 训练损失: 0.0053, 验证损失: 0.0094, 时间: 1.39秒\n",
      "Epoch 14/60, 训练损失: 0.0050, 验证损失: 0.0091, 时间: 1.39秒\n",
      "Epoch 15/60, 训练损失: 0.0040, 验证损失: 0.0077, 时间: 1.35秒\n",
      "Epoch 16/60, 训练损失: 0.0041, 验证损失: 0.0089, 时间: 1.42秒\n",
      "Epoch 17/60, 训练损失: 0.0040, 验证损失: 0.0096, 时间: 1.32秒\n",
      "Epoch 18/60, 训练损失: 0.0038, 验证损失: 0.0081, 时间: 1.42秒\n",
      "Epoch 19/60, 训练损失: 0.0035, 验证损失: 0.0115, 时间: 1.49秒\n",
      "Epoch 20/60, 训练损失: 0.0040, 验证损失: 0.0079, 时间: 2.05秒\n",
      "Epoch 21/60, 训练损失: 0.0032, 验证损失: 0.0070, 时间: 2.06秒\n",
      "Epoch 22/60, 训练损失: 0.0028, 验证损失: 0.0074, 时间: 1.38秒\n",
      "Epoch 23/60, 训练损失: 0.0032, 验证损失: 0.0127, 时间: 1.34秒\n",
      "Epoch 24/60, 训练损失: 0.0028, 验证损失: 0.0074, 时间: 1.30秒\n",
      "Epoch 25/60, 训练损失: 0.0025, 验证损失: 0.0085, 时间: 1.43秒\n",
      "Epoch 26/60, 训练损失: 0.0032, 验证损失: 0.0079, 时间: 1.55秒\n",
      "Epoch 27/60, 训练损失: 0.0024, 验证损失: 0.0081, 时间: 1.46秒\n",
      "Epoch 28/60, 训练损失: 0.0024, 验证损失: 0.0073, 时间: 2.17秒\n",
      "Epoch 29/60, 训练损失: 0.0022, 验证损失: 0.0076, 时间: 2.25秒\n",
      "Epoch 30/60, 训练损失: 0.0023, 验证损失: 0.0073, 时间: 1.56秒\n",
      "Epoch 31/60, 训练损失: 0.0020, 验证损失: 0.0073, 时间: 1.39秒\n",
      "触发早停。\n",
      "训练完成，共 31 轮，最佳验证损失: 0.0070\n",
      "Test loss: 0.0072 - Best Test loss: 0.0074\n",
      "\n",
      "Iteration 5/8\n",
      "hidden_size: 128, dropout_prob: 0.3, dept: 4, batch_size: 32, learning_rate: 0.001\n",
      "Epoch 1/60, 训练损失: 1.3684, 验证损失: 0.0611, 时间: 0.84秒\n",
      "Epoch 2/60, 训练损失: 0.0289, 验证损失: 0.0211, 时间: 0.75秒\n",
      "Epoch 3/60, 训练损失: 0.0156, 验证损失: 0.0170, 时间: 0.81秒\n",
      "Epoch 4/60, 训练损失: 0.0108, 验证损失: 0.0170, 时间: 0.83秒\n",
      "Epoch 5/60, 训练损失: 0.0087, 验证损失: 0.0153, 时间: 0.79秒\n",
      "Epoch 6/60, 训练损失: 0.0072, 验证损失: 0.0142, 时间: 0.78秒\n",
      "Epoch 7/60, 训练损失: 0.0059, 验证损失: 0.0142, 时间: 0.85秒\n",
      "Epoch 8/60, 训练损失: 0.0057, 验证损失: 0.0131, 时间: 0.79秒\n",
      "Epoch 9/60, 训练损失: 0.0057, 验证损失: 0.0134, 时间: 0.79秒\n",
      "Epoch 10/60, 训练损失: 0.0056, 验证损失: 0.0128, 时间: 1.24秒\n",
      "Epoch 11/60, 训练损失: 0.0055, 验证损失: 0.0136, 时间: 1.21秒\n",
      "Epoch 12/60, 训练损失: 0.0066, 验证损失: 0.0147, 时间: 1.37秒\n",
      "Epoch 13/60, 训练损失: 0.0066, 验证损失: 0.0148, 时间: 0.84秒\n",
      "Epoch 14/60, 训练损失: 0.0057, 验证损失: 0.0124, 时间: 0.80秒\n",
      "Epoch 15/60, 训练损失: 0.0061, 验证损失: 0.0132, 时间: 0.80秒\n",
      "Epoch 16/60, 训练损失: 0.0058, 验证损失: 0.0128, 时间: 0.84秒\n",
      "Epoch 17/60, 训练损失: 0.0053, 验证损失: 0.0108, 时间: 0.85秒\n",
      "Epoch 18/60, 训练损失: 0.0047, 验证损失: 0.0110, 时间: 0.87秒\n",
      "Epoch 19/60, 训练损失: 0.0043, 验证损失: 0.0106, 时间: 0.87秒\n",
      "Epoch 20/60, 训练损失: 0.0036, 验证损失: 0.0103, 时间: 0.80秒\n",
      "Epoch 21/60, 训练损失: 0.0041, 验证损失: 0.0108, 时间: 0.80秒\n",
      "Epoch 22/60, 训练损失: 0.0045, 验证损失: 0.0111, 时间: 0.87秒\n",
      "Epoch 23/60, 训练损失: 0.0037, 验证损失: 0.0098, 时间: 0.84秒\n",
      "Epoch 24/60, 训练损失: 0.0033, 验证损失: 0.0102, 时间: 0.83秒\n",
      "Epoch 25/60, 训练损失: 0.0033, 验证损失: 0.0097, 时间: 1.24秒\n",
      "Epoch 26/60, 训练损失: 0.0028, 验证损失: 0.0092, 时间: 1.22秒\n",
      "Epoch 27/60, 训练损失: 0.0032, 验证损失: 0.0102, 时间: 1.39秒\n",
      "Epoch 28/60, 训练损失: 0.0035, 验证损失: 0.0107, 时间: 0.85秒\n",
      "Epoch 29/60, 训练损失: 0.0031, 验证损失: 0.0118, 时间: 0.76秒\n",
      "Epoch 30/60, 训练损失: 0.0028, 验证损失: 0.0089, 时间: 0.88秒\n",
      "Epoch 31/60, 训练损失: 0.0025, 验证损失: 0.0110, 时间: 0.89秒\n",
      "Epoch 32/60, 训练损失: 0.0030, 验证损失: 0.0097, 时间: 0.88秒\n",
      "Epoch 33/60, 训练损失: 0.0032, 验证损失: 0.0089, 时间: 0.82秒\n",
      "Epoch 34/60, 训练损失: 0.0021, 验证损失: 0.0094, 时间: 0.93秒\n",
      "Epoch 35/60, 训练损失: 0.0023, 验证损失: 0.0092, 时间: 0.80秒\n",
      "Epoch 36/60, 训练损失: 0.0020, 验证损失: 0.0094, 时间: 0.82秒\n",
      "Epoch 37/60, 训练损失: 0.0021, 验证损失: 0.0082, 时间: 0.83秒\n",
      "Epoch 38/60, 训练损失: 0.0027, 验证损失: 0.0086, 时间: 0.80秒\n",
      "Epoch 39/60, 训练损失: 0.0022, 验证损失: 0.0085, 时间: 0.95秒\n",
      "Epoch 40/60, 训练损失: 0.0022, 验证损失: 0.0084, 时间: 1.20秒\n",
      "Epoch 41/60, 训练损失: 0.0021, 验证损失: 0.0084, 时间: 1.22秒\n",
      "Epoch 42/60, 训练损失: 0.0021, 验证损失: 0.0083, 时间: 1.20秒\n",
      "Epoch 43/60, 训练损失: 0.0016, 验证损失: 0.0080, 时间: 0.83秒\n",
      "Epoch 44/60, 训练损失: 0.0016, 验证损失: 0.0078, 时间: 0.84秒\n",
      "Epoch 45/60, 训练损失: 0.0016, 验证损失: 0.0080, 时间: 0.84秒\n",
      "Epoch 46/60, 训练损失: 0.0016, 验证损失: 0.0088, 时间: 0.89秒\n",
      "Epoch 47/60, 训练损失: 0.0019, 验证损失: 0.0083, 时间: 0.83秒\n",
      "Epoch 48/60, 训练损失: 0.0019, 验证损失: 0.0084, 时间: 0.80秒\n",
      "Epoch 49/60, 训练损失: 0.0017, 验证损失: 0.0080, 时间: 0.82秒\n",
      "Epoch 50/60, 训练损失: 0.0015, 验证损失: 0.0075, 时间: 0.85秒\n",
      "Epoch 51/60, 训练损失: 0.0016, 验证损失: 0.0077, 时间: 0.86秒\n",
      "Epoch 52/60, 训练损失: 0.0018, 验证损失: 0.0098, 时间: 0.90秒\n",
      "Epoch 53/60, 训练损失: 0.0014, 验证损失: 0.0076, 时间: 0.91秒\n",
      "Epoch 54/60, 训练损失: 0.0013, 验证损失: 0.0078, 时间: 1.21秒\n",
      "Epoch 55/60, 训练损失: 0.0024, 验证损失: 0.0080, 时间: 1.24秒\n",
      "Epoch 56/60, 训练损失: 0.0012, 验证损失: 0.0078, 时间: 1.28秒\n",
      "Epoch 57/60, 训练损失: 0.0010, 验证损失: 0.0075, 时间: 1.11秒\n",
      "Epoch 58/60, 训练损失: 0.0014, 验证损失: 0.0084, 时间: 0.91秒\n",
      "Epoch 59/60, 训练损失: 0.0015, 验证损失: 0.0075, 时间: 0.87秒\n",
      "Epoch 60/60, 训练损失: 0.0012, 验证损失: 0.0073, 时间: 0.86秒\n",
      "训练完成，共 60 轮，最佳验证损失: 0.0073\n",
      "Test loss: 0.0075 - Best Test loss: 0.0072\n",
      "\n",
      "Iteration 6/8\n",
      "hidden_size: 256, dropout_prob: 0.3, dept: 3, batch_size: 16, learning_rate: 0.001\n",
      "Epoch 1/60, 训练损失: 0.5392, 验证损失: 0.0715, 时间: 2.16秒\n",
      "Epoch 2/60, 训练损失: 0.0230, 验证损失: 0.0156, 时间: 2.26秒\n",
      "Epoch 3/60, 训练损失: 0.0121, 验证损失: 0.0153, 时间: 2.28秒\n",
      "Epoch 4/60, 训练损失: 0.0109, 验证损失: 0.0165, 时间: 3.10秒\n",
      "Epoch 5/60, 训练损失: 0.0106, 验证损失: 0.0151, 时间: 2.49秒\n",
      "Epoch 6/60, 训练损失: 0.0109, 验证损失: 0.0136, 时间: 2.26秒\n",
      "Epoch 7/60, 训练损失: 0.0118, 验证损失: 0.0159, 时间: 2.08秒\n",
      "Epoch 8/60, 训练损失: 0.0118, 验证损失: 0.0140, 时间: 2.22秒\n",
      "Epoch 9/60, 训练损失: 0.0089, 验证损失: 0.0122, 时间: 2.55秒\n",
      "Epoch 10/60, 训练损失: 0.0094, 验证损失: 0.0130, 时间: 3.17秒\n",
      "Epoch 11/60, 训练损失: 0.0080, 验证损失: 0.0137, 时间: 2.22秒\n",
      "Epoch 12/60, 训练损失: 0.0082, 验证损失: 0.0127, 时间: 2.17秒\n",
      "Epoch 13/60, 训练损失: 0.0075, 验证损失: 0.0104, 时间: 2.39秒\n",
      "Epoch 14/60, 训练损失: 0.0061, 验证损失: 0.0093, 时间: 2.58秒\n",
      "Epoch 15/60, 训练损失: 0.0065, 验证损失: 0.0106, 时间: 3.08秒\n",
      "Epoch 16/60, 训练损失: 0.0051, 验证损失: 0.0104, 时间: 2.71秒\n",
      "Epoch 17/60, 训练损失: 0.0055, 验证损失: 0.0145, 时间: 2.35秒\n",
      "Epoch 18/60, 训练损失: 0.0048, 验证损失: 0.0086, 时间: 2.29秒\n",
      "Epoch 19/60, 训练损失: 0.0048, 验证损失: 0.0089, 时间: 2.16秒\n",
      "Epoch 20/60, 训练损失: 0.0046, 验证损失: 0.0130, 时间: 2.39秒\n",
      "Epoch 21/60, 训练损失: 0.0042, 验证损失: 0.0086, 时间: 3.08秒\n",
      "Epoch 22/60, 训练损失: 0.0037, 验证损失: 0.0102, 时间: 2.28秒\n",
      "Epoch 23/60, 训练损失: 0.0035, 验证损失: 0.0074, 时间: 2.19秒\n",
      "Epoch 24/60, 训练损失: 0.0036, 验证损失: 0.0083, 时间: 2.34秒\n",
      "Epoch 25/60, 训练损失: 0.0029, 验证损失: 0.0091, 时间: 2.38秒\n",
      "Epoch 26/60, 训练损失: 0.0027, 验证损失: 0.0075, 时间: 2.91秒\n",
      "Epoch 27/60, 训练损失: 0.0027, 验证损失: 0.0082, 时间: 3.03秒\n",
      "Epoch 28/60, 训练损失: 0.0024, 验证损失: 0.0084, 时间: 2.45秒\n",
      "Epoch 29/60, 训练损失: 0.0028, 验证损失: 0.0075, 时间: 2.42秒\n",
      "Epoch 30/60, 训练损失: 0.0021, 验证损失: 0.0078, 时间: 2.31秒\n",
      "Epoch 31/60, 训练损失: 0.0022, 验证损失: 0.0088, 时间: 2.82秒\n",
      "Epoch 32/60, 训练损失: 0.0021, 验证损失: 0.0073, 时间: 3.07秒\n",
      "Epoch 33/60, 训练损失: 0.0022, 验证损失: 0.0077, 时间: 2.32秒\n",
      "Epoch 34/60, 训练损失: 0.0019, 验证损失: 0.0071, 时间: 2.34秒\n",
      "Epoch 35/60, 训练损失: 0.0016, 验证损失: 0.0073, 时间: 2.45秒\n",
      "Epoch 36/60, 训练损失: 0.0020, 验证损失: 0.0072, 时间: 2.42秒\n",
      "Epoch 37/60, 训练损失: 0.0018, 验证损失: 0.0075, 时间: 3.39秒\n",
      "Epoch 38/60, 训练损失: 0.0017, 验证损失: 0.0068, 时间: 2.34秒\n",
      "Epoch 39/60, 训练损失: 0.0014, 验证损失: 0.0070, 时间: 2.26秒\n",
      "Epoch 40/60, 训练损失: 0.0017, 验证损失: 0.0102, 时间: 2.31秒\n",
      "Epoch 41/60, 训练损失: 0.0016, 验证损失: 0.0066, 时间: 2.19秒\n",
      "Epoch 42/60, 训练损失: 0.0014, 验证损失: 0.0093, 时间: 2.85秒\n",
      "Epoch 43/60, 训练损失: 0.0014, 验证损失: 0.0081, 时间: 2.88秒\n",
      "Epoch 44/60, 训练损失: 0.0013, 验证损失: 0.0066, 时间: 2.44秒\n",
      "Epoch 45/60, 训练损失: 0.0013, 验证损失: 0.0069, 时间: 2.12秒\n",
      "Epoch 46/60, 训练损失: 0.0014, 验证损失: 0.0069, 时间: 2.20秒\n",
      "Epoch 47/60, 训练损失: 0.0013, 验证损失: 0.0065, 时间: 2.55秒\n",
      "Epoch 48/60, 训练损失: 0.0012, 验证损失: 0.0064, 时间: 3.19秒\n",
      "Epoch 49/60, 训练损失: 0.0010, 验证损失: 0.0068, 时间: 2.39秒\n",
      "Epoch 50/60, 训练损失: 0.0011, 验证损失: 0.0067, 时间: 2.33秒\n",
      "Epoch 51/60, 训练损失: 0.0011, 验证损失: 0.0066, 时间: 2.23秒\n",
      "Epoch 52/60, 训练损失: 0.0010, 验证损失: 0.0073, 时间: 2.19秒\n",
      "Epoch 53/60, 训练损失: 0.0010, 验证损失: 0.0076, 时间: 2.90秒\n",
      "Epoch 54/60, 训练损失: 0.0010, 验证损失: 0.0067, 时间: 2.86秒\n",
      "Epoch 55/60, 训练损失: 0.0011, 验证损失: 0.0084, 时间: 2.32秒\n",
      "Epoch 56/60, 训练损失: 0.0012, 验证损失: 0.0069, 时间: 2.41秒\n",
      "Epoch 57/60, 训练损失: 0.0009, 验证损失: 0.0073, 时间: 2.38秒\n",
      "Epoch 58/60, 训练损失: 0.0009, 验证损失: 0.0066, 时间: 2.79秒\n",
      "触发早停。\n",
      "训练完成，共 58 轮，最佳验证损失: 0.0064\n",
      "Test loss: 0.0066 - Best Test loss: 0.0072\n",
      "\n",
      "Iteration 7/8\n",
      "hidden_size: 256, dropout_prob: 0.3, dept: 3, batch_size: 32, learning_rate: 0.001\n",
      "Epoch 1/60, 训练损失: 0.7635, 验证损失: 0.0449, 时间: 1.84秒\n",
      "Epoch 2/60, 训练损失: 0.0253, 验证损失: 0.0203, 时间: 1.44秒\n",
      "Epoch 3/60, 训练损失: 0.0135, 验证损失: 0.0173, 时间: 1.26秒\n",
      "Epoch 4/60, 训练损失: 0.0096, 验证损失: 0.0155, 时间: 1.26秒\n",
      "Epoch 5/60, 训练损失: 0.0074, 验证损失: 0.0141, 时间: 1.25秒\n",
      "Epoch 6/60, 训练损失: 0.0063, 验证损失: 0.0139, 时间: 1.23秒\n",
      "Epoch 7/60, 训练损失: 0.0057, 验证损失: 0.0135, 时间: 1.25秒\n",
      "Epoch 8/60, 训练损失: 0.0060, 验证损失: 0.0151, 时间: 1.27秒\n",
      "Epoch 9/60, 训练损失: 0.0066, 验证损失: 0.0144, 时间: 1.27秒\n",
      "Epoch 10/60, 训练损失: 0.0070, 验证损失: 0.0167, 时间: 1.62秒\n",
      "Epoch 11/60, 训练损失: 0.0097, 验证损失: 0.0167, 时间: 1.99秒\n",
      "Epoch 12/60, 训练损失: 0.0079, 验证损失: 0.0138, 时间: 1.48秒\n",
      "Epoch 13/60, 训练损失: 0.0062, 验证损失: 0.0144, 时间: 1.24秒\n",
      "Epoch 14/60, 训练损失: 0.0063, 验证损失: 0.0117, 时间: 1.28秒\n",
      "Epoch 15/60, 训练损失: 0.0058, 验证损失: 0.0109, 时间: 1.32秒\n",
      "Epoch 16/60, 训练损失: 0.0061, 验证损失: 0.0124, 时间: 1.26秒\n",
      "Epoch 17/60, 训练损失: 0.0063, 验证损失: 0.0113, 时间: 1.31秒\n",
      "Epoch 18/60, 训练损失: 0.0048, 验证损失: 0.0119, 时间: 1.27秒\n",
      "Epoch 19/60, 训练损失: 0.0042, 验证损失: 0.0106, 时间: 1.29秒\n",
      "Epoch 20/60, 训练损失: 0.0036, 验证损失: 0.0124, 时间: 1.90秒\n",
      "Epoch 21/60, 训练损失: 0.0052, 验证损失: 0.0110, 时间: 1.94秒\n",
      "Epoch 22/60, 训练损失: 0.0041, 验证损失: 0.0104, 时间: 1.32秒\n",
      "Epoch 23/60, 训练损失: 0.0046, 验证损失: 0.0117, 时间: 1.28秒\n",
      "Epoch 24/60, 训练损失: 0.0038, 验证损失: 0.0097, 时间: 1.28秒\n",
      "Epoch 25/60, 训练损失: 0.0034, 验证损失: 0.0095, 时间: 1.28秒\n",
      "Epoch 26/60, 训练损失: 0.0042, 验证损失: 0.0086, 时间: 1.23秒\n",
      "Epoch 27/60, 训练损失: 0.0038, 验证损失: 0.0086, 时间: 1.31秒\n",
      "Epoch 28/60, 训练损失: 0.0027, 验证损失: 0.0083, 时间: 1.33秒\n",
      "Epoch 29/60, 训练损失: 0.0032, 验证损失: 0.0080, 时间: 1.60秒\n",
      "Epoch 30/60, 训练损失: 0.0033, 验证损失: 0.0112, 时间: 1.84秒\n",
      "Epoch 31/60, 训练损失: 0.0027, 验证损失: 0.0084, 时间: 1.72秒\n",
      "Epoch 32/60, 训练损失: 0.0027, 验证损失: 0.0090, 时间: 1.34秒\n",
      "Epoch 33/60, 训练损失: 0.0026, 验证损失: 0.0083, 时间: 1.31秒\n",
      "Epoch 34/60, 训练损失: 0.0025, 验证损失: 0.0085, 时间: 1.26秒\n",
      "Epoch 35/60, 训练损失: 0.0024, 验证损失: 0.0081, 时间: 1.27秒\n",
      "Epoch 36/60, 训练损失: 0.0023, 验证损失: 0.0097, 时间: 1.22秒\n",
      "Epoch 37/60, 训练损失: 0.0022, 验证损失: 0.0081, 时间: 1.31秒\n",
      "Epoch 38/60, 训练损失: 0.0023, 验证损失: 0.0078, 时间: 1.31秒\n",
      "Epoch 39/60, 训练损失: 0.0025, 验证损失: 0.0080, 时间: 1.75秒\n",
      "Epoch 40/60, 训练损失: 0.0020, 验证损失: 0.0081, 时间: 1.86秒\n",
      "Epoch 41/60, 训练损失: 0.0024, 验证损失: 0.0078, 时间: 1.44秒\n",
      "Epoch 42/60, 训练损失: 0.0022, 验证损失: 0.0075, 时间: 1.25秒\n",
      "Epoch 43/60, 训练损失: 0.0020, 验证损失: 0.0078, 时间: 1.29秒\n",
      "Epoch 44/60, 训练损失: 0.0017, 验证损失: 0.0085, 时间: 1.22秒\n",
      "Epoch 45/60, 训练损失: 0.0016, 验证损失: 0.0082, 时间: 1.25秒\n",
      "Epoch 46/60, 训练损失: 0.0019, 验证损失: 0.0081, 时间: 1.29秒\n",
      "Epoch 47/60, 训练损失: 0.0017, 验证损失: 0.0072, 时间: 1.32秒\n",
      "Epoch 48/60, 训练损失: 0.0018, 验证损失: 0.0076, 时间: 1.43秒\n",
      "Epoch 49/60, 训练损失: 0.0015, 验证损失: 0.0077, 时间: 2.04秒\n",
      "Epoch 50/60, 训练损失: 0.0013, 验证损失: 0.0075, 时间: 2.10秒\n",
      "Epoch 51/60, 训练损失: 0.0015, 验证损失: 0.0094, 时间: 1.39秒\n",
      "Epoch 52/60, 训练损失: 0.0021, 验证损失: 0.0067, 时间: 1.38秒\n",
      "Epoch 53/60, 训练损失: 0.0016, 验证损失: 0.0088, 时间: 1.42秒\n",
      "Epoch 54/60, 训练损失: 0.0014, 验证损失: 0.0078, 时间: 1.43秒\n",
      "Epoch 55/60, 训练损失: 0.0013, 验证损失: 0.0072, 时间: 1.49秒\n",
      "Epoch 56/60, 训练损失: 0.0011, 验证损失: 0.0084, 时间: 1.41秒\n",
      "Epoch 57/60, 训练损失: 0.0016, 验证损失: 0.0075, 时间: 1.31秒\n",
      "Epoch 58/60, 训练损失: 0.0012, 验证损失: 0.0072, 时间: 1.86秒\n",
      "Epoch 59/60, 训练损失: 0.0012, 验证损失: 0.0084, 时间: 2.00秒\n",
      "Epoch 60/60, 训练损失: 0.0013, 验证损失: 0.0080, 时间: 1.25秒\n",
      "训练完成，共 60 轮，最佳验证损失: 0.0067\n",
      "Test loss: 0.0072 - Best Test loss: 0.0066\n",
      "\n",
      "Iteration 8/8\n",
      "hidden_size: 256, dropout_prob: 0.3, dept: 4, batch_size: 16, learning_rate: 0.001\n",
      "Epoch 1/60, 训练损失: 0.5122, 验证损失: 0.0538, 时间: 3.08秒\n",
      "Epoch 2/60, 训练损失: 0.0217, 验证损失: 0.0196, 时间: 2.47秒\n",
      "Epoch 3/60, 训练损失: 0.0122, 验证损失: 0.0129, 时间: 2.30秒\n",
      "Epoch 4/60, 训练损失: 0.0109, 验证损失: 0.0192, 时间: 2.87秒\n",
      "Epoch 5/60, 训练损失: 0.0112, 验证损失: 0.0139, 时间: 2.98秒\n",
      "Epoch 6/60, 训练损失: 0.0112, 验证损失: 0.0195, 时间: 2.28秒\n",
      "Epoch 7/60, 训练损失: 0.0118, 验证损失: 0.0148, 时间: 2.23秒\n",
      "Epoch 8/60, 训练损失: 0.0111, 验证损失: 0.0193, 时间: 2.24秒\n",
      "Epoch 9/60, 训练损失: 0.0107, 验证损失: 0.0170, 时间: 2.44秒\n",
      "Epoch 10/60, 训练损失: 0.0083, 验证损失: 0.0120, 时间: 3.34秒\n",
      "Epoch 11/60, 训练损失: 0.0076, 验证损失: 0.0125, 时间: 2.46秒\n",
      "Epoch 12/60, 训练损失: 0.0079, 验证损失: 0.0116, 时间: 2.23秒\n",
      "Epoch 13/60, 训练损失: 0.0081, 验证损失: 0.0128, 时间: 2.37秒\n",
      "Epoch 14/60, 训练损失: 0.0066, 验证损失: 0.0091, 时间: 2.09秒\n",
      "Epoch 15/60, 训练损失: 0.0059, 验证损失: 0.0091, 时间: 2.68秒\n",
      "Epoch 16/60, 训练损失: 0.0050, 验证损失: 0.0098, 时间: 2.92秒\n",
      "Epoch 17/60, 训练损失: 0.0059, 验证损失: 0.0097, 时间: 2.48秒\n",
      "Epoch 18/60, 训练损失: 0.0044, 验证损失: 0.0127, 时间: 2.41秒\n",
      "Epoch 19/60, 训练损失: 0.0047, 验证损失: 0.0105, 时间: 2.43秒\n",
      "Epoch 20/60, 训练损失: 0.0042, 验证损失: 0.0095, 时间: 2.64秒\n",
      "Epoch 21/60, 训练损失: 0.0041, 验证损失: 0.0085, 时间: 3.20秒\n",
      "Epoch 22/60, 训练损失: 0.0036, 验证损失: 0.0078, 时间: 2.14秒\n",
      "Epoch 23/60, 训练损失: 0.0036, 验证损失: 0.0080, 时间: 2.26秒\n",
      "Epoch 24/60, 训练损失: 0.0034, 验证损失: 0.0082, 时间: 2.27秒\n",
      "Epoch 25/60, 训练损失: 0.0028, 验证损失: 0.0079, 时间: 2.27秒\n",
      "Epoch 26/60, 训练损失: 0.0027, 验证损失: 0.0079, 时间: 2.84秒\n",
      "Epoch 27/60, 训练损失: 0.0026, 验证损失: 0.0086, 时间: 2.89秒\n",
      "Epoch 28/60, 训练损失: 0.0028, 验证损失: 0.0079, 时间: 2.39秒\n",
      "Epoch 29/60, 训练损失: 0.0026, 验证损失: 0.0073, 时间: 2.41秒\n",
      "Epoch 30/60, 训练损失: 0.0022, 验证损失: 0.0072, 时间: 2.36秒\n",
      "Epoch 31/60, 训练损失: 0.0022, 验证损失: 0.0071, 时间: 2.77秒\n",
      "Epoch 32/60, 训练损失: 0.0023, 验证损失: 0.0076, 时间: 3.12秒\n",
      "Epoch 33/60, 训练损失: 0.0024, 验证损失: 0.0077, 时间: 2.30秒\n",
      "Epoch 34/60, 训练损失: 0.0018, 验证损失: 0.0072, 时间: 2.34秒\n",
      "Epoch 35/60, 训练损失: 0.0019, 验证损失: 0.0082, 时间: 2.46秒\n",
      "Epoch 36/60, 训练损失: 0.0018, 验证损失: 0.0080, 时间: 2.34秒\n",
      "Epoch 37/60, 训练损失: 0.0018, 验证损失: 0.0078, 时间: 3.16秒\n",
      "Epoch 38/60, 训练损失: 0.0016, 验证损失: 0.0075, 时间: 2.64秒\n",
      "Epoch 39/60, 训练损失: 0.0013, 验证损失: 0.0071, 时间: 2.28秒\n",
      "Epoch 40/60, 训练损失: 0.0015, 验证损失: 0.0073, 时间: 2.35秒\n",
      "Epoch 41/60, 训练损失: 0.0018, 验证损失: 0.0079, 时间: 2.28秒\n",
      "Epoch 42/60, 训练损失: 0.0015, 验证损失: 0.0072, 时间: 2.76秒\n",
      "Epoch 43/60, 训练损失: 0.0017, 验证损失: 0.0083, 时间: 3.05秒\n",
      "Epoch 44/60, 训练损失: 0.0014, 验证损失: 0.0070, 时间: 2.44秒\n",
      "Epoch 45/60, 训练损失: 0.0012, 验证损失: 0.0072, 时间: 2.28秒\n",
      "Epoch 46/60, 训练损失: 0.0011, 验证损失: 0.0072, 时间: 2.12秒\n",
      "Epoch 47/60, 训练损失: 0.0011, 验证损失: 0.0073, 时间: 2.13秒\n",
      "Epoch 48/60, 训练损失: 0.0012, 验证损失: 0.0076, 时间: 3.27秒\n",
      "Epoch 49/60, 训练损失: 0.0011, 验证损失: 0.0069, 时间: 2.54秒\n",
      "Epoch 50/60, 训练损失: 0.0011, 验证损失: 0.0082, 时间: 2.30秒\n",
      "Epoch 51/60, 训练损失: 0.0011, 验证损失: 0.0079, 时间: 2.27秒\n",
      "Epoch 52/60, 训练损失: 0.0011, 验证损失: 0.0069, 时间: 2.38秒\n",
      "Epoch 53/60, 训练损失: 0.0009, 验证损失: 0.0069, 时间: 3.07秒\n",
      "Epoch 54/60, 训练损失: 0.0011, 验证损失: 0.0074, 时间: 2.96秒\n",
      "Epoch 55/60, 训练损失: 0.0012, 验证损失: 0.0066, 时间: 2.38秒\n",
      "Epoch 56/60, 训练损失: 0.0010, 验证损失: 0.0071, 时间: 2.53秒\n",
      "Epoch 57/60, 训练损失: 0.0009, 验证损失: 0.0068, 时间: 2.55秒\n",
      "Epoch 58/60, 训练损失: 0.0008, 验证损失: 0.0070, 时间: 3.19秒\n",
      "Epoch 59/60, 训练损失: 0.0008, 验证损失: 0.0077, 时间: 3.18秒\n",
      "Epoch 60/60, 训练损失: 0.0009, 验证损失: 0.0066, 时间: 2.72秒\n",
      "训练完成，共 60 轮，最佳验证损失: 0.0066\n",
      "Test loss: 0.0065 - Best Test loss: 0.0066\n",
      "\n",
      "Iteration 9/8\n",
      "hidden_size: 256, dropout_prob: 0.3, dept: 4, batch_size: 32, learning_rate: 0.001\n",
      "Epoch 1/60, 训练损失: 0.8096, 验证损失: 0.0556, 时间: 1.32秒\n",
      "Epoch 2/60, 训练损失: 0.0268, 验证损失: 0.0222, 时间: 1.28秒\n",
      "Epoch 3/60, 训练损失: 0.0139, 验证损失: 0.0181, 时间: 1.38秒\n",
      "Epoch 4/60, 训练损失: 0.0097, 验证损失: 0.0167, 时间: 1.45秒\n",
      "Epoch 5/60, 训练损失: 0.0077, 验证损失: 0.0158, 时间: 1.92秒\n",
      "Epoch 6/60, 训练损失: 0.0065, 验证损失: 0.0161, 时间: 2.10秒\n",
      "Epoch 7/60, 训练损失: 0.0060, 验证损失: 0.0142, 时间: 1.55秒\n",
      "Epoch 8/60, 训练损失: 0.0066, 验证损失: 0.0161, 时间: 1.40秒\n",
      "Epoch 9/60, 训练损失: 0.0075, 验证损失: 0.0157, 时间: 1.47秒\n",
      "Epoch 10/60, 训练损失: 0.0079, 验证损失: 0.0150, 时间: 1.39秒\n",
      "Epoch 11/60, 训练损失: 0.0083, 验证损失: 0.0163, 时间: 1.44秒\n",
      "Epoch 12/60, 训练损失: 0.0082, 验证损失: 0.0151, 时间: 1.40秒\n",
      "Epoch 13/60, 训练损失: 0.0072, 验证损失: 0.0134, 时间: 1.34秒\n",
      "Epoch 14/60, 训练损失: 0.0061, 验证损失: 0.0123, 时间: 1.88秒\n",
      "Epoch 15/60, 训练损失: 0.0058, 验证损失: 0.0130, 时间: 2.08秒\n",
      "Epoch 16/60, 训练损失: 0.0054, 验证损失: 0.0117, 时间: 1.37秒\n",
      "Epoch 17/60, 训练损失: 0.0059, 验证损失: 0.0123, 时间: 1.37秒\n",
      "Epoch 18/60, 训练损失: 0.0063, 验证损失: 0.0124, 时间: 1.48秒\n",
      "Epoch 19/60, 训练损失: 0.0064, 验证损失: 0.0112, 时间: 1.46秒\n",
      "Epoch 20/60, 训练损失: 0.0050, 验证损失: 0.0111, 时间: 1.46秒\n",
      "Epoch 21/60, 训练损失: 0.0043, 验证损失: 0.0117, 时间: 1.41秒\n",
      "Epoch 22/60, 训练损失: 0.0042, 验证损失: 0.0118, 时间: 1.40秒\n",
      "Epoch 23/60, 训练损失: 0.0045, 验证损失: 0.0119, 时间: 1.90秒\n",
      "Epoch 24/60, 训练损失: 0.0034, 验证损失: 0.0094, 时间: 1.97秒\n",
      "Epoch 25/60, 训练损失: 0.0035, 验证损失: 0.0106, 时间: 1.35秒\n",
      "Epoch 26/60, 训练损失: 0.0045, 验证损失: 0.0100, 时间: 1.36秒\n",
      "Epoch 27/60, 训练损失: 0.0038, 验证损失: 0.0099, 时间: 1.38秒\n",
      "Epoch 28/60, 训练损失: 0.0032, 验证损失: 0.0093, 时间: 1.25秒\n",
      "Epoch 29/60, 训练损失: 0.0042, 验证损失: 0.0092, 时间: 1.31秒\n",
      "Epoch 30/60, 训练损失: 0.0037, 验证损失: 0.0096, 时间: 1.36秒\n",
      "Epoch 31/60, 训练损失: 0.0030, 验证损失: 0.0082, 时间: 1.29秒\n",
      "Epoch 32/60, 训练损失: 0.0037, 验证损失: 0.0083, 时间: 1.61秒\n",
      "Epoch 33/60, 训练损失: 0.0023, 验证损失: 0.0083, 时间: 1.76秒\n",
      "Epoch 34/60, 训练损失: 0.0029, 验证损失: 0.0094, 时间: 1.53秒\n",
      "Epoch 35/60, 训练损失: 0.0026, 验证损失: 0.0091, 时间: 1.32秒\n",
      "Epoch 36/60, 训练损失: 0.0024, 验证损失: 0.0088, 时间: 1.28秒\n",
      "Epoch 37/60, 训练损失: 0.0024, 验证损失: 0.0141, 时间: 1.25秒\n",
      "Epoch 38/60, 训练损失: 0.0034, 验证损失: 0.0082, 时间: 1.29秒\n",
      "Epoch 39/60, 训练损失: 0.0024, 验证损失: 0.0080, 时间: 1.33秒\n",
      "Epoch 40/60, 训练损失: 0.0020, 验证损失: 0.0079, 时间: 1.37秒\n",
      "Epoch 41/60, 训练损失: 0.0026, 验证损失: 0.0088, 时间: 1.26秒\n",
      "Epoch 42/60, 训练损失: 0.0028, 验证损失: 0.0083, 时间: 1.75秒\n",
      "Epoch 43/60, 训练损失: 0.0023, 验证损失: 0.0084, 时间: 2.47秒\n",
      "Epoch 44/60, 训练损失: 0.0018, 验证损失: 0.0080, 时间: 1.35秒\n",
      "Epoch 45/60, 训练损失: 0.0015, 验证损失: 0.0086, 时间: 1.35秒\n",
      "Epoch 46/60, 训练损失: 0.0019, 验证损失: 0.0078, 时间: 1.33秒\n",
      "Epoch 47/60, 训练损失: 0.0018, 验证损失: 0.0079, 时间: 1.28秒\n",
      "Epoch 48/60, 训练损失: 0.0021, 验证损失: 0.0080, 时间: 1.22秒\n",
      "Epoch 49/60, 训练损失: 0.0020, 验证损失: 0.0096, 时间: 1.30秒\n",
      "Epoch 50/60, 训练损失: 0.0018, 验证损失: 0.0077, 时间: 1.25秒\n",
      "Epoch 51/60, 训练损失: 0.0015, 验证损失: 0.0081, 时间: 1.53秒\n",
      "Epoch 52/60, 训练损失: 0.0019, 验证损失: 0.0072, 时间: 1.85秒\n",
      "Epoch 53/60, 训练损失: 0.0018, 验证损失: 0.0079, 时间: 1.70秒\n",
      "Epoch 54/60, 训练损失: 0.0016, 验证损失: 0.0073, 时间: 1.30秒\n",
      "Epoch 55/60, 训练损失: 0.0019, 验证损失: 0.0073, 时间: 1.23秒\n",
      "Epoch 56/60, 训练损失: 0.0013, 验证损失: 0.0073, 时间: 1.27秒\n",
      "Epoch 57/60, 训练损失: 0.0014, 验证损失: 0.0081, 时间: 1.34秒\n",
      "Epoch 58/60, 训练损失: 0.0018, 验证损失: 0.0090, 时间: 1.34秒\n",
      "Epoch 59/60, 训练损失: 0.0017, 验证损失: 0.0072, 时间: 1.36秒\n",
      "Epoch 60/60, 训练损失: 0.0016, 验证损失: 0.0077, 时间: 1.43秒\n",
      "训练完成，共 60 轮，最佳验证损失: 0.0072\n",
      "Test loss: 0.0073 - Best Test loss: 0.0065\n"
     ]
    }
   ]
  },
  {
   "cell_type": "markdown",
   "source": [
    "## Best loss, R2 and the best config"
   ],
   "metadata": {
    "id": "vSubk4AbUnlS"
   }
  },
  {
   "cell_type": "code",
   "source": [
    "print(f'Best config: {best_config}')\n",
    "print(f'Best loss: {best_loss}')"
   ],
   "metadata": {
    "id": "PFkbEjr8jVC9",
    "colab": {
     "base_uri": "https://localhost:8080/"
    },
    "executionInfo": {
     "status": "ok",
     "timestamp": 1706804027568,
     "user_tz": -60,
     "elapsed": 12,
     "user": {
      "displayName": "Zhiguang Li",
      "userId": "06031394133879865151"
     }
    },
    "outputId": "b1ecb5be-1ada-4407-d042-ba3ae6627854"
   },
   "execution_count": null,
   "outputs": [
    {
     "output_type": "stream",
     "name": "stdout",
     "text": [
      "Best config: {'hidden_size': 256, 'dropout_prob': 0.3, 'dept': 4, 'batch_size': 16, 'learning_rate': 0.001}\n",
      "Best loss: 0.006481497548520565\n"
     ]
    }
   ]
  },
  {
   "cell_type": "code",
   "source": [
    "y_pred, y_true = test_model(best_model, test_dataloader, device)\n",
    "r2 = r2_score(y_true, y_pred)\n",
    "print(f'R2 score: {r2}')"
   ],
   "metadata": {
    "id": "werJesKnjXMV",
    "colab": {
     "base_uri": "https://localhost:8080/"
    },
    "executionInfo": {
     "status": "ok",
     "timestamp": 1706804028191,
     "user_tz": -60,
     "elapsed": 23,
     "user": {
      "displayName": "Zhiguang Li",
      "userId": "06031394133879865151"
     }
    },
    "outputId": "5b6e11d4-0595-4aa2-e4df-21b77ffb1ba6"
   },
   "execution_count": null,
   "outputs": [
    {
     "output_type": "stream",
     "name": "stdout",
     "text": [
      "R2 score: 0.9707600847749389\n"
     ]
    }
   ]
  }
 ]
}
